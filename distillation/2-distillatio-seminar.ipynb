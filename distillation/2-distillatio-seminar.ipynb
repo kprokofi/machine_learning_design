{
 "cells": [
  {
   "cell_type": "markdown",
   "metadata": {},
   "source": [
    "# Дистилляция знаний из модели\n",
    "\n",
    "В этой лабораторной попробуем использовать метод дистиляции, чтобы обучить небольшую модель, которая бы \"впитала\" знания большой модели и работала примерно так же хорошо."
   ]
  },
  {
   "cell_type": "code",
   "execution_count": 2,
   "metadata": {},
   "outputs": [],
   "source": [
    "import numpy as np\n",
    "import pandas as pd\n",
    "import matplotlib.pyplot as plt\n",
    "\n",
    "import torch\n",
    "import torch.nn as nn\n",
    "from torch.autograd import Variable\n",
    "import torch.nn.functional as F\n",
    "\n",
    "import torchvision\n",
    "import torchvision.transforms as transforms\n",
    "from torch.utils.data import Dataset, DataLoader\n",
    "from sklearn.metrics import confusion_matrix"
   ]
  },
  {
   "cell_type": "code",
   "execution_count": 3,
   "metadata": {},
   "outputs": [
    {
     "data": {
      "text/plain": [
       "<torch._C.Generator at 0x7f9aad26d3d8>"
      ]
     },
     "execution_count": 3,
     "metadata": {},
     "output_type": "execute_result"
    }
   ],
   "source": [
    "SEED=9876\n",
    "torch.manual_seed(SEED)"
   ]
  },
  {
   "cell_type": "markdown",
   "metadata": {},
   "source": [
    "На этот раз будем использовать более продвинутую версию mnist - fashion mnist. Задача заключается в том, чтобы по картинке 28x28 понять какой тип одежды изображен."
   ]
  },
  {
   "cell_type": "code",
   "execution_count": 4,
   "metadata": {},
   "outputs": [],
   "source": [
    "train_csv = pd.read_csv(\"/data/fashion-mnist_train.csv\")\n",
    "test_csv = pd.read_csv(\"/data/fashion-mnist_test.csv\")"
   ]
  },
  {
   "cell_type": "code",
   "execution_count": 5,
   "metadata": {},
   "outputs": [],
   "source": [
    "device = torch.device(\"cpu\")"
   ]
  },
  {
   "cell_type": "code",
   "execution_count": 6,
   "metadata": {},
   "outputs": [
    {
     "data": {
      "text/html": [
       "<div>\n",
       "<style scoped>\n",
       "    .dataframe tbody tr th:only-of-type {\n",
       "        vertical-align: middle;\n",
       "    }\n",
       "\n",
       "    .dataframe tbody tr th {\n",
       "        vertical-align: top;\n",
       "    }\n",
       "\n",
       "    .dataframe thead th {\n",
       "        text-align: right;\n",
       "    }\n",
       "</style>\n",
       "<table border=\"1\" class=\"dataframe\">\n",
       "  <thead>\n",
       "    <tr style=\"text-align: right;\">\n",
       "      <th></th>\n",
       "      <th>label</th>\n",
       "      <th>pixel1</th>\n",
       "      <th>pixel2</th>\n",
       "      <th>pixel3</th>\n",
       "      <th>pixel4</th>\n",
       "      <th>pixel5</th>\n",
       "      <th>pixel6</th>\n",
       "      <th>pixel7</th>\n",
       "      <th>pixel8</th>\n",
       "      <th>pixel9</th>\n",
       "      <th>...</th>\n",
       "      <th>pixel775</th>\n",
       "      <th>pixel776</th>\n",
       "      <th>pixel777</th>\n",
       "      <th>pixel778</th>\n",
       "      <th>pixel779</th>\n",
       "      <th>pixel780</th>\n",
       "      <th>pixel781</th>\n",
       "      <th>pixel782</th>\n",
       "      <th>pixel783</th>\n",
       "      <th>pixel784</th>\n",
       "    </tr>\n",
       "  </thead>\n",
       "  <tbody>\n",
       "    <tr>\n",
       "      <th>0</th>\n",
       "      <td>2</td>\n",
       "      <td>0</td>\n",
       "      <td>0</td>\n",
       "      <td>0</td>\n",
       "      <td>0</td>\n",
       "      <td>0</td>\n",
       "      <td>0</td>\n",
       "      <td>0</td>\n",
       "      <td>0</td>\n",
       "      <td>0</td>\n",
       "      <td>...</td>\n",
       "      <td>0</td>\n",
       "      <td>0</td>\n",
       "      <td>0</td>\n",
       "      <td>0</td>\n",
       "      <td>0</td>\n",
       "      <td>0</td>\n",
       "      <td>0</td>\n",
       "      <td>0</td>\n",
       "      <td>0</td>\n",
       "      <td>0</td>\n",
       "    </tr>\n",
       "    <tr>\n",
       "      <th>1</th>\n",
       "      <td>9</td>\n",
       "      <td>0</td>\n",
       "      <td>0</td>\n",
       "      <td>0</td>\n",
       "      <td>0</td>\n",
       "      <td>0</td>\n",
       "      <td>0</td>\n",
       "      <td>0</td>\n",
       "      <td>0</td>\n",
       "      <td>0</td>\n",
       "      <td>...</td>\n",
       "      <td>0</td>\n",
       "      <td>0</td>\n",
       "      <td>0</td>\n",
       "      <td>0</td>\n",
       "      <td>0</td>\n",
       "      <td>0</td>\n",
       "      <td>0</td>\n",
       "      <td>0</td>\n",
       "      <td>0</td>\n",
       "      <td>0</td>\n",
       "    </tr>\n",
       "    <tr>\n",
       "      <th>2</th>\n",
       "      <td>6</td>\n",
       "      <td>0</td>\n",
       "      <td>0</td>\n",
       "      <td>0</td>\n",
       "      <td>0</td>\n",
       "      <td>0</td>\n",
       "      <td>0</td>\n",
       "      <td>0</td>\n",
       "      <td>5</td>\n",
       "      <td>0</td>\n",
       "      <td>...</td>\n",
       "      <td>0</td>\n",
       "      <td>0</td>\n",
       "      <td>0</td>\n",
       "      <td>30</td>\n",
       "      <td>43</td>\n",
       "      <td>0</td>\n",
       "      <td>0</td>\n",
       "      <td>0</td>\n",
       "      <td>0</td>\n",
       "      <td>0</td>\n",
       "    </tr>\n",
       "    <tr>\n",
       "      <th>3</th>\n",
       "      <td>0</td>\n",
       "      <td>0</td>\n",
       "      <td>0</td>\n",
       "      <td>0</td>\n",
       "      <td>1</td>\n",
       "      <td>2</td>\n",
       "      <td>0</td>\n",
       "      <td>0</td>\n",
       "      <td>0</td>\n",
       "      <td>0</td>\n",
       "      <td>...</td>\n",
       "      <td>3</td>\n",
       "      <td>0</td>\n",
       "      <td>0</td>\n",
       "      <td>0</td>\n",
       "      <td>0</td>\n",
       "      <td>1</td>\n",
       "      <td>0</td>\n",
       "      <td>0</td>\n",
       "      <td>0</td>\n",
       "      <td>0</td>\n",
       "    </tr>\n",
       "    <tr>\n",
       "      <th>4</th>\n",
       "      <td>3</td>\n",
       "      <td>0</td>\n",
       "      <td>0</td>\n",
       "      <td>0</td>\n",
       "      <td>0</td>\n",
       "      <td>0</td>\n",
       "      <td>0</td>\n",
       "      <td>0</td>\n",
       "      <td>0</td>\n",
       "      <td>0</td>\n",
       "      <td>...</td>\n",
       "      <td>0</td>\n",
       "      <td>0</td>\n",
       "      <td>0</td>\n",
       "      <td>0</td>\n",
       "      <td>0</td>\n",
       "      <td>0</td>\n",
       "      <td>0</td>\n",
       "      <td>0</td>\n",
       "      <td>0</td>\n",
       "      <td>0</td>\n",
       "    </tr>\n",
       "  </tbody>\n",
       "</table>\n",
       "<p>5 rows × 785 columns</p>\n",
       "</div>"
      ],
      "text/plain": [
       "   label  pixel1  pixel2  pixel3  pixel4  pixel5  pixel6  pixel7  pixel8  \\\n",
       "0      2       0       0       0       0       0       0       0       0   \n",
       "1      9       0       0       0       0       0       0       0       0   \n",
       "2      6       0       0       0       0       0       0       0       5   \n",
       "3      0       0       0       0       1       2       0       0       0   \n",
       "4      3       0       0       0       0       0       0       0       0   \n",
       "\n",
       "   pixel9    ...     pixel775  pixel776  pixel777  pixel778  pixel779  \\\n",
       "0       0    ...            0         0         0         0         0   \n",
       "1       0    ...            0         0         0         0         0   \n",
       "2       0    ...            0         0         0        30        43   \n",
       "3       0    ...            3         0         0         0         0   \n",
       "4       0    ...            0         0         0         0         0   \n",
       "\n",
       "   pixel780  pixel781  pixel782  pixel783  pixel784  \n",
       "0         0         0         0         0         0  \n",
       "1         0         0         0         0         0  \n",
       "2         0         0         0         0         0  \n",
       "3         1         0         0         0         0  \n",
       "4         0         0         0         0         0  \n",
       "\n",
       "[5 rows x 785 columns]"
      ]
     },
     "execution_count": 6,
     "metadata": {},
     "output_type": "execute_result"
    }
   ],
   "source": [
    "train_csv.head()"
   ]
  },
  {
   "cell_type": "code",
   "execution_count": 7,
   "metadata": {},
   "outputs": [],
   "source": [
    "y_train = train_csv['label'].values\n",
    "X_train = train_csv.drop(['label'],axis=1).values\n",
    "\n",
    "y_test = test_csv['label'].values\n",
    "X_test = test_csv.drop(['label'],axis=1).values"
   ]
  },
  {
   "cell_type": "code",
   "execution_count": 8,
   "metadata": {},
   "outputs": [
    {
     "data": {
      "text/plain": [
       "<matplotlib.image.AxesImage at 0x7f9a54e29400>"
      ]
     },
     "execution_count": 8,
     "metadata": {},
     "output_type": "execute_result"
    },
    {
     "data": {
      "image/png": "[encoded data removed]",
      "text/plain": [
       "<Figure size 432x288 with 1 Axes>"
      ]
     },
     "metadata": {},
     "output_type": "display_data"
    }
   ],
   "source": [
    "plt.imshow(X_train[0].reshape(28, 28))"
   ]
  },
  {
   "cell_type": "code",
   "execution_count": 9,
   "metadata": {},
   "outputs": [
    {
     "data": {
      "text/plain": [
       "<matplotlib.image.AxesImage at 0x7f9a54f73f28>"
      ]
     },
     "execution_count": 9,
     "metadata": {},
     "output_type": "execute_result"
    },
    {
     "data": {
      "image/png": "[encoded data removed]",
      "text/plain": [
       "<Figure size 432x288 with 1 Axes>"
      ]
     },
     "metadata": {},
     "output_type": "display_data"
    }
   ],
   "source": [
    "plt.imshow(X_train[1].reshape(28, 28))"
   ]
  },
  {
   "cell_type": "code",
   "execution_count": 10,
   "metadata": {},
   "outputs": [],
   "source": [
    "BATCH_SIZE = 32\n",
    "\n",
    "torch_X_train = torch.from_numpy(X_train).type(torch.LongTensor)\n",
    "torch_y_train = torch.from_numpy(y_train).type(torch.LongTensor)\n",
    "torch_X_test = torch.from_numpy(X_test).type(torch.LongTensor)\n",
    "torch_y_test = torch.from_numpy(y_test).type(torch.LongTensor)\n",
    "\n",
    "train = torch.utils.data.TensorDataset(torch_X_train,torch_y_train)\n",
    "test = torch.utils.data.TensorDataset(torch_X_test,torch_y_test)\n",
    "\n",
    "train_loader = torch.utils.data.DataLoader(train, batch_size = BATCH_SIZE, shuffle = False)\n",
    "test_loader = torch.utils.data.DataLoader(test, batch_size = BATCH_SIZE, shuffle = False)"
   ]
  },
  {
   "cell_type": "markdown",
   "metadata": {},
   "source": [
    "В качестве базовой модели, с которой будем сравнивать, возьмем простую нейронную сеть с тремя полносвязными слоями."
   ]
  },
  {
   "cell_type": "code",
   "execution_count": 12,
   "metadata": {},
   "outputs": [
    {
     "name": "stdout",
     "output_type": "stream",
     "text": [
      "MLP(\n",
      "  (linear1): Linear(in_features=784, out_features=250, bias=True)\n",
      "  (linear2): Linear(in_features=250, out_features=100, bias=True)\n",
      "  (linear3): Linear(in_features=100, out_features=10, bias=True)\n",
      ")\n"
     ]
    }
   ],
   "source": [
    "class MLP(nn.Module):\n",
    "    def __init__(self):\n",
    "        super(MLP, self).__init__()\n",
    "        self.linear1 = nn.Linear(784,250)\n",
    "        self.linear2 = nn.Linear(250,100)\n",
    "        self.linear3 = nn.Linear(100,10)\n",
    "    \n",
    "    def forward(self,X):\n",
    "        X = F.relu(self.linear1(X))\n",
    "        X = F.relu(self.linear2(X))\n",
    "        X = self.linear3(X)\n",
    "        return X\n",
    "\n",
    "mlp = MLP()\n",
    "print(mlp)"
   ]
  },
  {
   "cell_type": "code",
   "execution_count": 11,
   "metadata": {},
   "outputs": [],
   "source": [
    "def fit(model, train_loader, epoch_number=5):\n",
    "    optimizer = torch.optim.Adam(model.parameters())\n",
    "    error = nn.CrossEntropyLoss()\n",
    "    model.train()\n",
    "    \n",
    "    for epoch in range(epoch_number):\n",
    "        correct = 0\n",
    "        \n",
    "        for batch_idx, (X_batch, y_batch) in enumerate(train_loader):\n",
    "            var_X_batch = Variable(X_batch).float()\n",
    "            var_y_batch = Variable(y_batch)\n",
    "            \n",
    "            optimizer.zero_grad()\n",
    "            output = model(var_X_batch)\n",
    "            loss = error(output, var_y_batch)\n",
    "            loss.backward()\n",
    "            optimizer.step()\n",
    "\n",
    "            predicted = torch.max(output.data, 1)[1] \n",
    "            correct += (predicted == var_y_batch).sum()\n",
    "            if batch_idx % 200 == 0:\n",
    "                print('Epoch : {} [{}/{} ({:.0f}%)]\\tLoss: {:.6f}\\t Accuracy:{:.3f}%'.format(\n",
    "                    epoch, batch_idx*len(X_batch), len(train_loader.dataset), 100.*batch_idx / len(train_loader), loss.data, float(correct*100) / float(BATCH_SIZE*(batch_idx+1))))"
   ]
  },
  {
   "cell_type": "code",
   "execution_count": 12,
   "metadata": {},
   "outputs": [],
   "source": [
    "def evaluate(model):\n",
    "    correct = 0 \n",
    "    for test_imgs, test_labels in test_loader:\n",
    "        test_imgs = Variable(test_imgs).float()\n",
    "        \n",
    "        output = model(test_imgs)\n",
    "        predicted = torch.max(output,1)[1]\n",
    "        correct += (predicted == test_labels).sum()\n",
    "    print(\"Test accuracy:{:.3f}% \".format( float(correct) / (len(test_loader)*BATCH_SIZE)))"
   ]
  },
  {
   "cell_type": "markdown",
   "metadata": {},
   "source": [
    "Обучим модель и посмотрим, какое качество она выдает на наших данных."
   ]
  },
  {
   "cell_type": "code",
   "execution_count": 15,
   "metadata": {},
   "outputs": [
    {
     "name": "stdout",
     "output_type": "stream",
     "text": [
      "Epoch : 0 [0/60000 (0%)]\tLoss: 17.452322\t Accuracy:3.125%\n",
      "Epoch : 0 [6400/60000 (11%)]\tLoss: 0.776435\t Accuracy:69.030%\n",
      "Epoch : 0 [12800/60000 (21%)]\tLoss: 0.852823\t Accuracy:73.566%\n",
      "Epoch : 0 [19200/60000 (32%)]\tLoss: 0.474309\t Accuracy:75.109%\n",
      "Epoch : 0 [25600/60000 (43%)]\tLoss: 0.257116\t Accuracy:76.537%\n",
      "Epoch : 0 [32000/60000 (53%)]\tLoss: 0.651054\t Accuracy:77.316%\n",
      "Epoch : 0 [38400/60000 (64%)]\tLoss: 0.526560\t Accuracy:78.029%\n",
      "Epoch : 0 [44800/60000 (75%)]\tLoss: 0.484273\t Accuracy:78.689%\n",
      "Epoch : 0 [51200/60000 (85%)]\tLoss: 0.247172\t Accuracy:79.109%\n",
      "Epoch : 0 [57600/60000 (96%)]\tLoss: 0.271017\t Accuracy:79.508%\n",
      "Epoch : 1 [0/60000 (0%)]\tLoss: 0.501332\t Accuracy:84.375%\n",
      "Epoch : 1 [6400/60000 (11%)]\tLoss: 0.580329\t Accuracy:83.458%\n",
      "Epoch : 1 [12800/60000 (21%)]\tLoss: 0.802431\t Accuracy:83.728%\n",
      "Epoch : 1 [19200/60000 (32%)]\tLoss: 0.240229\t Accuracy:83.689%\n",
      "Epoch : 1 [25600/60000 (43%)]\tLoss: 0.274157\t Accuracy:83.926%\n",
      "Epoch : 1 [32000/60000 (53%)]\tLoss: 0.478150\t Accuracy:84.000%\n",
      "Epoch : 1 [38400/60000 (64%)]\tLoss: 0.489609\t Accuracy:84.094%\n",
      "Epoch : 1 [44800/60000 (75%)]\tLoss: 0.181453\t Accuracy:84.197%\n",
      "Epoch : 1 [51200/60000 (85%)]\tLoss: 0.197932\t Accuracy:84.215%\n",
      "Epoch : 1 [57600/60000 (96%)]\tLoss: 0.141351\t Accuracy:84.195%\n",
      "Epoch : 2 [0/60000 (0%)]\tLoss: 0.445465\t Accuracy:81.250%\n",
      "Epoch : 2 [6400/60000 (11%)]\tLoss: 0.550776\t Accuracy:85.463%\n",
      "Epoch : 2 [12800/60000 (21%)]\tLoss: 0.784535\t Accuracy:85.318%\n",
      "Epoch : 2 [19200/60000 (32%)]\tLoss: 0.302194\t Accuracy:85.285%\n",
      "Epoch : 2 [25600/60000 (43%)]\tLoss: 0.259635\t Accuracy:85.327%\n",
      "Epoch : 2 [32000/60000 (53%)]\tLoss: 0.511338\t Accuracy:85.343%\n",
      "Epoch : 2 [38400/60000 (64%)]\tLoss: 0.508349\t Accuracy:85.364%\n",
      "Epoch : 2 [44800/60000 (75%)]\tLoss: 0.222788\t Accuracy:85.426%\n",
      "Epoch : 2 [51200/60000 (85%)]\tLoss: 0.201509\t Accuracy:85.433%\n",
      "Epoch : 2 [57600/60000 (96%)]\tLoss: 0.129544\t Accuracy:85.394%\n",
      "Epoch : 3 [0/60000 (0%)]\tLoss: 0.464175\t Accuracy:84.375%\n",
      "Epoch : 3 [6400/60000 (11%)]\tLoss: 0.430747\t Accuracy:86.132%\n",
      "Epoch : 3 [12800/60000 (21%)]\tLoss: 0.550969\t Accuracy:86.354%\n",
      "Epoch : 3 [19200/60000 (32%)]\tLoss: 0.218653\t Accuracy:86.210%\n",
      "Epoch : 3 [25600/60000 (43%)]\tLoss: 0.227416\t Accuracy:86.384%\n",
      "Epoch : 3 [32000/60000 (53%)]\tLoss: 0.443824\t Accuracy:86.342%\n",
      "Epoch : 3 [38400/60000 (64%)]\tLoss: 0.636973\t Accuracy:86.355%\n",
      "Epoch : 3 [44800/60000 (75%)]\tLoss: 0.212215\t Accuracy:86.338%\n",
      "Epoch : 3 [51200/60000 (85%)]\tLoss: 0.139430\t Accuracy:86.311%\n",
      "Epoch : 3 [57600/60000 (96%)]\tLoss: 0.111888\t Accuracy:86.277%\n",
      "Epoch : 4 [0/60000 (0%)]\tLoss: 0.366418\t Accuracy:90.625%\n",
      "Epoch : 4 [6400/60000 (11%)]\tLoss: 0.328854\t Accuracy:86.350%\n",
      "Epoch : 4 [12800/60000 (21%)]\tLoss: 0.548842\t Accuracy:86.417%\n",
      "Epoch : 4 [19200/60000 (32%)]\tLoss: 0.252456\t Accuracy:86.678%\n",
      "Epoch : 4 [25600/60000 (43%)]\tLoss: 0.216246\t Accuracy:86.689%\n",
      "Epoch : 4 [32000/60000 (53%)]\tLoss: 0.361780\t Accuracy:86.535%\n",
      "Epoch : 4 [38400/60000 (64%)]\tLoss: 0.453401\t Accuracy:86.615%\n",
      "Epoch : 4 [44800/60000 (75%)]\tLoss: 0.158731\t Accuracy:86.730%\n",
      "Epoch : 4 [51200/60000 (85%)]\tLoss: 0.094140\t Accuracy:86.754%\n",
      "Epoch : 4 [57600/60000 (96%)]\tLoss: 0.209827\t Accuracy:86.691%\n"
     ]
    }
   ],
   "source": [
    "torch.manual_seed(SEED)\n",
    "fit(mlp, train_loader)"
   ]
  },
  {
   "cell_type": "code",
   "execution_count": 16,
   "metadata": {},
   "outputs": [
    {
     "name": "stdout",
     "output_type": "stream",
     "text": [
      "Test accuracy:0.862% \n"
     ]
    }
   ],
   "source": [
    "evaluate(mlp)"
   ]
  },
  {
   "cell_type": "markdown",
   "metadata": {},
   "source": [
    "Посмотрим на размер модели"
   ]
  },
  {
   "cell_type": "code",
   "execution_count": 14,
   "metadata": {},
   "outputs": [],
   "source": [
    "def calc_weights(model):\n",
    "    result = 0\n",
    "    for layer in model.children():\n",
    "        result += len(layer.weight.reshape(-1))\n",
    "    return result"
   ]
  },
  {
   "cell_type": "code",
   "execution_count": 18,
   "metadata": {},
   "outputs": [
    {
     "data": {
      "text/plain": [
       "222000"
      ]
     },
     "execution_count": 18,
     "metadata": {},
     "output_type": "execute_result"
    }
   ],
   "source": [
    "calc_weights(mlp)"
   ]
  },
  {
   "cell_type": "markdown",
   "metadata": {},
   "source": [
    "Достаточно большое количество параметров. \n",
    "\n",
    "Попробуем сделать модель сильно меньше и улучить ее, дистилировав в нее знания из большой модели.\n",
    "\n",
    "В качестве такой модели возьмем сеть с двумя полносвязными слоями по 16 нейронов: 784 - 16 - 16 - 10"
   ]
  },
  {
   "cell_type": "code",
   "execution_count": 19,
   "metadata": {},
   "outputs": [],
   "source": [
    "class StudentMLP(nn.Module):\n",
    "    def __init__(self):\n",
    "        super(StudentMLP, self).__init__()\n",
    "        self.linear1 = nn.Linear(784,16)\n",
    "        self.linear2 = nn.Linear(16,10)\n",
    "    \n",
    "    def forward(self,X):\n",
    "        X = F.relu(self.linear1(X))\n",
    "        X = self.linear2(X)\n",
    "        return X"
   ]
  },
  {
   "cell_type": "code",
   "execution_count": 20,
   "metadata": {},
   "outputs": [],
   "source": [
    "smlp_simple = StudentMLP()"
   ]
  },
  {
   "cell_type": "code",
   "execution_count": 21,
   "metadata": {},
   "outputs": [
    {
     "data": {
      "text/plain": [
       "12704"
      ]
     },
     "execution_count": 21,
     "metadata": {},
     "output_type": "execute_result"
    }
   ],
   "source": [
    "calc_weights(smlp_simple)"
   ]
  },
  {
   "cell_type": "markdown",
   "metadata": {},
   "source": [
    "12 000 - это примерно 5% от изначальной сети. Попробуем просто обучить ее на данных и посмотрим, какое качество вообще она может выдать самостоятельно."
   ]
  },
  {
   "cell_type": "code",
   "execution_count": 22,
   "metadata": {},
   "outputs": [
    {
     "name": "stdout",
     "output_type": "stream",
     "text": [
      "Epoch : 0 [0/60000 (0%)]\tLoss: 50.468872\t Accuracy:3.125%\n",
      "Epoch : 0 [6400/60000 (11%)]\tLoss: 1.258343\t Accuracy:37.749%\n",
      "Epoch : 0 [12800/60000 (21%)]\tLoss: 1.803313\t Accuracy:46.875%\n",
      "Epoch : 0 [19200/60000 (32%)]\tLoss: 1.222149\t Accuracy:49.797%\n",
      "Epoch : 0 [25600/60000 (43%)]\tLoss: 1.064959\t Accuracy:50.538%\n",
      "Epoch : 0 [32000/60000 (53%)]\tLoss: 1.086423\t Accuracy:50.840%\n",
      "Epoch : 0 [38400/60000 (64%)]\tLoss: 1.005739\t Accuracy:51.491%\n",
      "Epoch : 0 [44800/60000 (75%)]\tLoss: 0.984158\t Accuracy:52.358%\n",
      "Epoch : 0 [51200/60000 (85%)]\tLoss: 0.922053\t Accuracy:52.873%\n",
      "Epoch : 0 [57600/60000 (96%)]\tLoss: 0.714705\t Accuracy:53.448%\n",
      "Epoch : 1 [0/60000 (0%)]\tLoss: 1.065298\t Accuracy:50.000%\n",
      "Epoch : 1 [6400/60000 (11%)]\tLoss: 0.861995\t Accuracy:59.857%\n",
      "Epoch : 1 [12800/60000 (21%)]\tLoss: 1.415263\t Accuracy:60.380%\n",
      "Epoch : 1 [19200/60000 (32%)]\tLoss: 0.846766\t Accuracy:60.613%\n",
      "Epoch : 1 [25600/60000 (43%)]\tLoss: 0.838058\t Accuracy:61.060%\n",
      "Epoch : 1 [32000/60000 (53%)]\tLoss: 1.028223\t Accuracy:61.129%\n",
      "Epoch : 1 [38400/60000 (64%)]\tLoss: 0.693042\t Accuracy:61.217%\n",
      "Epoch : 1 [44800/60000 (75%)]\tLoss: 0.745848\t Accuracy:61.340%\n",
      "Epoch : 1 [51200/60000 (85%)]\tLoss: 0.809490\t Accuracy:61.425%\n",
      "Epoch : 1 [57600/60000 (96%)]\tLoss: 0.640577\t Accuracy:61.429%\n",
      "Epoch : 2 [0/60000 (0%)]\tLoss: 0.938661\t Accuracy:56.250%\n",
      "Epoch : 2 [6400/60000 (11%)]\tLoss: 0.881990\t Accuracy:62.142%\n",
      "Epoch : 2 [12800/60000 (21%)]\tLoss: 1.329109\t Accuracy:62.360%\n",
      "Epoch : 2 [19200/60000 (32%)]\tLoss: 0.767594\t Accuracy:62.375%\n",
      "Epoch : 2 [25600/60000 (43%)]\tLoss: 0.776050\t Accuracy:62.777%\n",
      "Epoch : 2 [32000/60000 (53%)]\tLoss: 1.024194\t Accuracy:62.806%\n",
      "Epoch : 2 [38400/60000 (64%)]\tLoss: 0.643922\t Accuracy:62.778%\n",
      "Epoch : 2 [44800/60000 (75%)]\tLoss: 0.797796\t Accuracy:62.835%\n",
      "Epoch : 2 [51200/60000 (85%)]\tLoss: 0.695172\t Accuracy:62.845%\n",
      "Epoch : 2 [57600/60000 (96%)]\tLoss: 0.608492\t Accuracy:62.805%\n",
      "Epoch : 3 [0/60000 (0%)]\tLoss: 0.927333\t Accuracy:53.125%\n",
      "Epoch : 3 [6400/60000 (11%)]\tLoss: 0.776457\t Accuracy:62.982%\n",
      "Epoch : 3 [12800/60000 (21%)]\tLoss: 1.242381\t Accuracy:63.139%\n",
      "Epoch : 3 [19200/60000 (32%)]\tLoss: 0.740597\t Accuracy:63.160%\n",
      "Epoch : 3 [25600/60000 (43%)]\tLoss: 0.763313\t Accuracy:63.413%\n",
      "Epoch : 3 [32000/60000 (53%)]\tLoss: 0.965223\t Accuracy:63.499%\n",
      "Epoch : 3 [38400/60000 (64%)]\tLoss: 0.630635\t Accuracy:63.556%\n",
      "Epoch : 3 [44800/60000 (75%)]\tLoss: 0.673529\t Accuracy:63.560%\n",
      "Epoch : 3 [51200/60000 (85%)]\tLoss: 0.648633\t Accuracy:63.507%\n",
      "Epoch : 3 [57600/60000 (96%)]\tLoss: 0.609990\t Accuracy:63.460%\n",
      "Epoch : 4 [0/60000 (0%)]\tLoss: 0.889988\t Accuracy:53.125%\n",
      "Epoch : 4 [6400/60000 (11%)]\tLoss: 0.791997\t Accuracy:63.122%\n",
      "Epoch : 4 [12800/60000 (21%)]\tLoss: 1.223239\t Accuracy:63.373%\n",
      "Epoch : 4 [19200/60000 (32%)]\tLoss: 0.723067\t Accuracy:63.379%\n",
      "Epoch : 4 [25600/60000 (43%)]\tLoss: 0.759155\t Accuracy:63.694%\n",
      "Epoch : 4 [32000/60000 (53%)]\tLoss: 0.867390\t Accuracy:63.702%\n",
      "Epoch : 4 [38400/60000 (64%)]\tLoss: 0.626134\t Accuracy:63.689%\n",
      "Epoch : 4 [44800/60000 (75%)]\tLoss: 0.632743\t Accuracy:63.740%\n",
      "Epoch : 4 [51200/60000 (85%)]\tLoss: 0.679085\t Accuracy:63.706%\n",
      "Epoch : 4 [57600/60000 (96%)]\tLoss: 0.603203\t Accuracy:63.716%\n"
     ]
    }
   ],
   "source": [
    "torch.manual_seed(SEED)\n",
    "fit(smlp_simple, train_loader)"
   ]
  },
  {
   "cell_type": "code",
   "execution_count": 23,
   "metadata": {},
   "outputs": [
    {
     "name": "stdout",
     "output_type": "stream",
     "text": [
      "Test accuracy:0.629% \n"
     ]
    }
   ],
   "source": [
    "evaluate(smlp_simple)"
   ]
  },
  {
   "cell_type": "markdown",
   "metadata": {},
   "source": [
    "Видно, что модель слабее и качество упало примерно на 20%.\n",
    "\n",
    "Попробуем задействовать большую модель для улучшения качества. Для этого сконструируем более сложную функцию ошибки. \n",
    "\n",
    "Одно из слагаемых как и раньше - это просто кросс-энтропия для данных их обучающей выборки.\n",
    "\n",
    "Второе слагаемое - это кросс-энтропия между распределением вероятностей ответов, которое мы получили от большой модели и распределением веротяностей ответов, которое предсказывает наша модель. Мы также дополнительно сглаживаем эти распределения с помощью параметра \"температуры\" T. Это нужно, чтобы вытянуть из большой модели больше информации про данные.\n",
    "\n",
    "Складываем взвешенно эти два слагаемых с весами альфа и 1-альфа и для такой функции ошибки уже учим нашу модель как обычно."
   ]
  },
  {
   "cell_type": "code",
   "execution_count": 13,
   "metadata": {},
   "outputs": [],
   "source": [
    "def distill(teacher_model, student_model, train_loader, epoch_number=5, alpha=0.5, temperature=2):\n",
    "    def error_and_output(var_X_batch, var_y_batch): # Задаем нашу особую функцию ошибки\n",
    "        # Дивергенция Кульбака-Лейблера нужна, чтобы подсчитать кросс-энтропию между двумя распределениями\n",
    "        # А именно между распределениями ответов модели-учителя и модели-ученика\n",
    "        kldloss = nn.KLDivLoss()  \n",
    "        # Для подсчета ошибки на данных воспользуемся уже готовой функцией для кросс-энтропии\n",
    "        celoss = nn.CrossEntropyLoss()\n",
    "        \n",
    "        # Считаем выходы из сети-учителя\n",
    "        teacher_logits = teacher_model(var_X_batch)\n",
    "        # И выходы из сети-ученика\n",
    "        student_logits = student_model(var_X_batch)\n",
    "        \n",
    "        # Рассчитываем распределение вероятностей ответов с помощью softmax с параметром T для сети-ученика\n",
    "        soft_predictions = F.log_softmax( student_logits / temperature, dim=1 )\n",
    "        # И для сети-учителя\n",
    "        soft_labels = F.softmax( teacher_logits / temperature, dim=1 )\n",
    "        # Считаем ошибку дистиляции - кросс-энтропию между распределениями ответов моделей\n",
    "        distillation_loss = kldloss(soft_predictions, soft_labels)\n",
    "        \n",
    "        # Считаем ошибку на данных - кросс-энтропию между распределением ответов сети-ученика и правильным ответом\n",
    "        student_loss = celoss(student_logits, var_y_batch)\n",
    "        \n",
    "        # Складываем с весами\n",
    "        return distillation_loss * alpha + student_loss * (1 - alpha), student_logits\n",
    "    \n",
    "    optimizer = torch.optim.Adam(student_model.parameters())\n",
    "    student_model.train()\n",
    "    \n",
    "    # Далее обучение проходит как обычно\n",
    "    for epoch in range(epoch_number):\n",
    "        correct = 0\n",
    "        for batch_idx, (X_batch, y_batch) in enumerate(train_loader):\n",
    "            \n",
    "            var_X_batch = Variable(X_batch).float()\n",
    "            var_y_batch = Variable(y_batch)\n",
    "            optimizer.zero_grad()\n",
    "            loss, output = error_and_output(var_X_batch, var_y_batch)\n",
    "            loss.backward()\n",
    "            optimizer.step()\n",
    "\n",
    "            predicted = torch.max(output.data, 1)[1] \n",
    "            correct += (predicted == var_y_batch).sum()\n",
    "            if batch_idx % 200 == 0:\n",
    "                print('Epoch : {} [{}/{} ({:.0f}%)]\\tLoss: {:.6f}\\t Accuracy:{:.3f}%'.format(\n",
    "                    epoch, batch_idx*len(X_batch), len(train_loader.dataset), 100.*batch_idx / len(train_loader), loss.data, float(correct*100) / float(BATCH_SIZE*(batch_idx+1))))"
   ]
  },
  {
   "cell_type": "markdown",
   "metadata": {},
   "source": [
    "Попробуем обучить таким образом модель с T = 10"
   ]
  },
  {
   "cell_type": "code",
   "execution_count": 25,
   "metadata": {},
   "outputs": [
    {
     "name": "stdout",
     "output_type": "stream",
     "text": [
      "Epoch : 0 [0/60000 (0%)]\tLoss: 18.052670\t Accuracy:9.375%\n",
      "Epoch : 0 [6400/60000 (11%)]\tLoss: 0.997056\t Accuracy:22.341%\n",
      "Epoch : 0 [12800/60000 (21%)]\tLoss: 0.919923\t Accuracy:27.096%\n",
      "Epoch : 0 [19200/60000 (32%)]\tLoss: 0.816236\t Accuracy:30.564%\n",
      "Epoch : 0 [25600/60000 (43%)]\tLoss: 0.679702\t Accuracy:33.111%\n",
      "Epoch : 0 [32000/60000 (53%)]\tLoss: 0.741305\t Accuracy:34.990%\n",
      "Epoch : 0 [38400/60000 (64%)]\tLoss: 0.902872\t Accuracy:37.643%\n",
      "Epoch : 0 [44800/60000 (75%)]\tLoss: 0.616138\t Accuracy:39.396%\n",
      "Epoch : 0 [51200/60000 (85%)]\tLoss: 0.542330\t Accuracy:40.974%\n",
      "Epoch : 0 [57600/60000 (96%)]\tLoss: 0.454408\t Accuracy:42.499%\n",
      "Epoch : 1 [0/60000 (0%)]\tLoss: 0.623845\t Accuracy:59.375%\n",
      "Epoch : 1 [6400/60000 (11%)]\tLoss: 0.621880\t Accuracy:55.473%\n",
      "Epoch : 1 [12800/60000 (21%)]\tLoss: 0.698429\t Accuracy:57.232%\n",
      "Epoch : 1 [19200/60000 (32%)]\tLoss: 0.437327\t Accuracy:57.316%\n",
      "Epoch : 1 [25600/60000 (43%)]\tLoss: 0.534310\t Accuracy:57.331%\n",
      "Epoch : 1 [32000/60000 (53%)]\tLoss: 0.640700\t Accuracy:57.290%\n",
      "Epoch : 1 [38400/60000 (64%)]\tLoss: 0.519065\t Accuracy:57.546%\n",
      "Epoch : 1 [44800/60000 (75%)]\tLoss: 0.489263\t Accuracy:57.586%\n",
      "Epoch : 1 [51200/60000 (85%)]\tLoss: 0.408218\t Accuracy:57.985%\n",
      "Epoch : 1 [57600/60000 (96%)]\tLoss: 0.409950\t Accuracy:58.299%\n",
      "Epoch : 2 [0/60000 (0%)]\tLoss: 0.517166\t Accuracy:46.875%\n",
      "Epoch : 2 [6400/60000 (11%)]\tLoss: 0.621576\t Accuracy:63.573%\n",
      "Epoch : 2 [12800/60000 (21%)]\tLoss: 0.604152\t Accuracy:63.708%\n",
      "Epoch : 2 [19200/60000 (32%)]\tLoss: 0.299284\t Accuracy:65.417%\n",
      "Epoch : 2 [25600/60000 (43%)]\tLoss: 0.388357\t Accuracy:66.889%\n",
      "Epoch : 2 [32000/60000 (53%)]\tLoss: 0.407687\t Accuracy:67.770%\n",
      "Epoch : 2 [38400/60000 (64%)]\tLoss: 0.266640\t Accuracy:68.716%\n",
      "Epoch : 2 [44800/60000 (75%)]\tLoss: 0.343326\t Accuracy:69.397%\n",
      "Epoch : 2 [51200/60000 (85%)]\tLoss: 0.203896\t Accuracy:69.847%\n",
      "Epoch : 2 [57600/60000 (96%)]\tLoss: 0.348905\t Accuracy:70.116%\n",
      "Epoch : 3 [0/60000 (0%)]\tLoss: 0.382219\t Accuracy:62.500%\n",
      "Epoch : 3 [6400/60000 (11%)]\tLoss: 0.302482\t Accuracy:73.694%\n",
      "Epoch : 3 [12800/60000 (21%)]\tLoss: 0.516141\t Accuracy:73.831%\n",
      "Epoch : 3 [19200/60000 (32%)]\tLoss: 0.287210\t Accuracy:73.960%\n",
      "Epoch : 3 [25600/60000 (43%)]\tLoss: 0.342165\t Accuracy:74.091%\n",
      "Epoch : 3 [32000/60000 (53%)]\tLoss: 0.352981\t Accuracy:73.904%\n",
      "Epoch : 3 [38400/60000 (64%)]\tLoss: 0.250576\t Accuracy:73.905%\n",
      "Epoch : 3 [44800/60000 (75%)]\tLoss: 0.349998\t Accuracy:73.896%\n",
      "Epoch : 3 [51200/60000 (85%)]\tLoss: 0.233121\t Accuracy:74.032%\n",
      "Epoch : 3 [57600/60000 (96%)]\tLoss: 0.193046\t Accuracy:74.007%\n",
      "Epoch : 4 [0/60000 (0%)]\tLoss: 0.414044\t Accuracy:71.875%\n",
      "Epoch : 4 [6400/60000 (11%)]\tLoss: 0.274531\t Accuracy:75.684%\n",
      "Epoch : 4 [12800/60000 (21%)]\tLoss: 0.468471\t Accuracy:75.795%\n",
      "Epoch : 4 [19200/60000 (32%)]\tLoss: 0.235317\t Accuracy:76.030%\n",
      "Epoch : 4 [25600/60000 (43%)]\tLoss: 0.302541\t Accuracy:76.139%\n",
      "Epoch : 4 [32000/60000 (53%)]\tLoss: 0.350967\t Accuracy:75.887%\n",
      "Epoch : 4 [38400/60000 (64%)]\tLoss: 0.279557\t Accuracy:76.023%\n",
      "Epoch : 4 [44800/60000 (75%)]\tLoss: 0.347125\t Accuracy:76.017%\n",
      "Epoch : 4 [51200/60000 (85%)]\tLoss: 0.195882\t Accuracy:76.093%\n",
      "Epoch : 4 [57600/60000 (96%)]\tLoss: 0.183526\t Accuracy:76.032%\n"
     ]
    }
   ],
   "source": [
    "torch.manual_seed(SEED)\n",
    "smlp = StudentMLP()\n",
    "distill(mlp, smlp, train_loader, temperature=10.0)"
   ]
  },
  {
   "cell_type": "code",
   "execution_count": 26,
   "metadata": {},
   "outputs": [
    {
     "name": "stdout",
     "output_type": "stream",
     "text": [
      "Test accuracy:0.766% \n"
     ]
    }
   ],
   "source": [
    "evaluate(smlp)"
   ]
  },
  {
   "cell_type": "markdown",
   "metadata": {},
   "source": [
    "Качество модели увеличилось почти на 15%! Хотя до большой сети все еще немного не дотягивает. \n",
    "\n",
    "Перебирая параметры можно пытаться получить качество еще лучше."
   ]
  },
  {
   "cell_type": "code",
   "execution_count": 27,
   "metadata": {},
   "outputs": [
    {
     "name": "stdout",
     "output_type": "stream",
     "text": [
      "Epoch : 0 [0/60000 (0%)]\tLoss: 18.237700\t Accuracy:9.375%\n",
      "Epoch : 0 [6400/60000 (11%)]\tLoss: 0.973386\t Accuracy:18.517%\n",
      "Epoch : 0 [12800/60000 (21%)]\tLoss: 1.083604\t Accuracy:21.758%\n",
      "Epoch : 0 [19200/60000 (32%)]\tLoss: 0.913332\t Accuracy:26.711%\n",
      "Epoch : 0 [25600/60000 (43%)]\tLoss: 0.679522\t Accuracy:30.271%\n",
      "Epoch : 0 [32000/60000 (53%)]\tLoss: 0.789727\t Accuracy:32.455%\n",
      "Epoch : 0 [38400/60000 (64%)]\tLoss: 1.107024\t Accuracy:34.825%\n",
      "Epoch : 0 [44800/60000 (75%)]\tLoss: 0.658259\t Accuracy:36.708%\n",
      "Epoch : 0 [51200/60000 (85%)]\tLoss: 0.556574\t Accuracy:38.349%\n",
      "Epoch : 0 [57600/60000 (96%)]\tLoss: 0.552491\t Accuracy:39.764%\n",
      "Epoch : 1 [0/60000 (0%)]\tLoss: 0.653471\t Accuracy:59.375%\n",
      "Epoch : 1 [6400/60000 (11%)]\tLoss: 0.728044\t Accuracy:52.938%\n",
      "Epoch : 1 [12800/60000 (21%)]\tLoss: 0.763170\t Accuracy:54.317%\n",
      "Epoch : 1 [19200/60000 (32%)]\tLoss: 0.482753\t Accuracy:54.591%\n",
      "Epoch : 1 [25600/60000 (43%)]\tLoss: 0.554149\t Accuracy:55.126%\n",
      "Epoch : 1 [32000/60000 (53%)]\tLoss: 0.555983\t Accuracy:55.376%\n",
      "Epoch : 1 [38400/60000 (64%)]\tLoss: 0.562835\t Accuracy:55.847%\n",
      "Epoch : 1 [44800/60000 (75%)]\tLoss: 0.598392\t Accuracy:56.165%\n",
      "Epoch : 1 [51200/60000 (85%)]\tLoss: 0.462550\t Accuracy:56.416%\n",
      "Epoch : 1 [57600/60000 (96%)]\tLoss: 0.390540\t Accuracy:56.500%\n",
      "Epoch : 2 [0/60000 (0%)]\tLoss: 0.504578\t Accuracy:65.625%\n",
      "Epoch : 2 [6400/60000 (11%)]\tLoss: 0.536565\t Accuracy:57.447%\n",
      "Epoch : 2 [12800/60000 (21%)]\tLoss: 0.785148\t Accuracy:58.455%\n",
      "Epoch : 2 [19200/60000 (32%)]\tLoss: 0.404209\t Accuracy:58.496%\n",
      "Epoch : 2 [25600/60000 (43%)]\tLoss: 0.492473\t Accuracy:58.661%\n",
      "Epoch : 2 [32000/60000 (53%)]\tLoss: 0.576901\t Accuracy:58.944%\n",
      "Epoch : 2 [38400/60000 (64%)]\tLoss: 0.408108\t Accuracy:59.867%\n",
      "Epoch : 2 [44800/60000 (75%)]\tLoss: 0.441711\t Accuracy:60.611%\n",
      "Epoch : 2 [51200/60000 (85%)]\tLoss: 0.264188\t Accuracy:61.290%\n",
      "Epoch : 2 [57600/60000 (96%)]\tLoss: 0.298185\t Accuracy:62.205%\n",
      "Epoch : 3 [0/60000 (0%)]\tLoss: 0.408487\t Accuracy:65.625%\n",
      "Epoch : 3 [6400/60000 (11%)]\tLoss: 0.346104\t Accuracy:72.948%\n",
      "Epoch : 3 [12800/60000 (21%)]\tLoss: 0.642566\t Accuracy:73.379%\n",
      "Epoch : 3 [19200/60000 (32%)]\tLoss: 0.282369\t Accuracy:73.596%\n",
      "Epoch : 3 [25600/60000 (43%)]\tLoss: 0.331098\t Accuracy:73.947%\n",
      "Epoch : 3 [32000/60000 (53%)]\tLoss: 0.468232\t Accuracy:73.892%\n",
      "Epoch : 3 [38400/60000 (64%)]\tLoss: 0.284256\t Accuracy:74.040%\n",
      "Epoch : 3 [44800/60000 (75%)]\tLoss: 0.352014\t Accuracy:74.164%\n",
      "Epoch : 3 [51200/60000 (85%)]\tLoss: 0.222649\t Accuracy:74.350%\n",
      "Epoch : 3 [57600/60000 (96%)]\tLoss: 0.237457\t Accuracy:74.346%\n",
      "Epoch : 4 [0/60000 (0%)]\tLoss: 0.387972\t Accuracy:65.625%\n",
      "Epoch : 4 [6400/60000 (11%)]\tLoss: 0.332110\t Accuracy:75.529%\n",
      "Epoch : 4 [12800/60000 (21%)]\tLoss: 0.592508\t Accuracy:75.483%\n",
      "Epoch : 4 [19200/60000 (32%)]\tLoss: 0.286664\t Accuracy:75.770%\n",
      "Epoch : 4 [25600/60000 (43%)]\tLoss: 0.287513\t Accuracy:75.780%\n",
      "Epoch : 4 [32000/60000 (53%)]\tLoss: 0.415883\t Accuracy:75.659%\n",
      "Epoch : 4 [38400/60000 (64%)]\tLoss: 0.248189\t Accuracy:75.726%\n",
      "Epoch : 4 [44800/60000 (75%)]\tLoss: 0.315903\t Accuracy:75.796%\n",
      "Epoch : 4 [51200/60000 (85%)]\tLoss: 0.204783\t Accuracy:75.931%\n",
      "Epoch : 4 [57600/60000 (96%)]\tLoss: 0.163742\t Accuracy:75.786%\n"
     ]
    }
   ],
   "source": [
    "torch.manual_seed(SEED)\n",
    "smlp = StudentMLP()\n",
    "distill(mlp, smlp, train_loader, temperature=5.0)"
   ]
  },
  {
   "cell_type": "code",
   "execution_count": 28,
   "metadata": {},
   "outputs": [
    {
     "name": "stdout",
     "output_type": "stream",
     "text": [
      "Test accuracy:0.765% \n"
     ]
    }
   ],
   "source": [
    "evaluate(smlp)"
   ]
  },
  {
   "cell_type": "code",
   "execution_count": null,
   "metadata": {},
   "outputs": [],
   "source": []
  },
  {
   "cell_type": "code",
   "execution_count": 29,
   "metadata": {},
   "outputs": [
    {
     "name": "stdout",
     "output_type": "stream",
     "text": [
      "Epoch : 0 [0/60000 (0%)]\tLoss: 18.807398\t Accuracy:9.375%\n",
      "Epoch : 0 [6400/60000 (11%)]\tLoss: 1.029747\t Accuracy:21.393%\n",
      "Epoch : 0 [12800/60000 (21%)]\tLoss: 1.008816\t Accuracy:24.096%\n",
      "Epoch : 0 [19200/60000 (32%)]\tLoss: 0.854174\t Accuracy:26.076%\n",
      "Epoch : 0 [25600/60000 (43%)]\tLoss: 0.772763\t Accuracy:28.043%\n",
      "Epoch : 0 [32000/60000 (53%)]\tLoss: 0.914996\t Accuracy:29.558%\n",
      "Epoch : 0 [38400/60000 (64%)]\tLoss: 1.309228\t Accuracy:31.419%\n",
      "Epoch : 0 [44800/60000 (75%)]\tLoss: 0.692897\t Accuracy:32.698%\n",
      "Epoch : 0 [51200/60000 (85%)]\tLoss: 0.718221\t Accuracy:33.930%\n",
      "Epoch : 0 [57600/60000 (96%)]\tLoss: 0.631064\t Accuracy:34.934%\n",
      "Epoch : 1 [0/60000 (0%)]\tLoss: 0.741131\t Accuracy:53.125%\n",
      "Epoch : 1 [6400/60000 (11%)]\tLoss: 0.753406\t Accuracy:45.989%\n",
      "Epoch : 1 [12800/60000 (21%)]\tLoss: 0.802172\t Accuracy:46.922%\n",
      "Epoch : 1 [19200/60000 (32%)]\tLoss: 0.566999\t Accuracy:48.284%\n",
      "Epoch : 1 [25600/60000 (43%)]\tLoss: 0.599084\t Accuracy:49.224%\n",
      "Epoch : 1 [32000/60000 (53%)]\tLoss: 0.639231\t Accuracy:49.348%\n",
      "Epoch : 1 [38400/60000 (64%)]\tLoss: 0.776577\t Accuracy:49.763%\n",
      "Epoch : 1 [44800/60000 (75%)]\tLoss: 0.533466\t Accuracy:50.038%\n",
      "Epoch : 1 [51200/60000 (85%)]\tLoss: 0.594709\t Accuracy:50.812%\n",
      "Epoch : 1 [57600/60000 (96%)]\tLoss: 0.417412\t Accuracy:51.555%\n",
      "Epoch : 2 [0/60000 (0%)]\tLoss: 0.534043\t Accuracy:65.625%\n",
      "Epoch : 2 [6400/60000 (11%)]\tLoss: 0.589834\t Accuracy:58.271%\n",
      "Epoch : 2 [12800/60000 (21%)]\tLoss: 0.708708\t Accuracy:58.720%\n",
      "Epoch : 2 [19200/60000 (32%)]\tLoss: 0.374961\t Accuracy:58.777%\n",
      "Epoch : 2 [25600/60000 (43%)]\tLoss: 0.541197\t Accuracy:58.903%\n",
      "Epoch : 2 [32000/60000 (53%)]\tLoss: 0.483617\t Accuracy:58.929%\n",
      "Epoch : 2 [38400/60000 (64%)]\tLoss: 0.580947\t Accuracy:59.104%\n",
      "Epoch : 2 [44800/60000 (75%)]\tLoss: 0.482395\t Accuracy:59.190%\n",
      "Epoch : 2 [51200/60000 (85%)]\tLoss: 0.456048\t Accuracy:59.242%\n",
      "Epoch : 2 [57600/60000 (96%)]\tLoss: 0.382235\t Accuracy:59.115%\n",
      "Epoch : 3 [0/60000 (0%)]\tLoss: 0.441396\t Accuracy:65.625%\n",
      "Epoch : 3 [6400/60000 (11%)]\tLoss: 0.514737\t Accuracy:59.810%\n",
      "Epoch : 3 [12800/60000 (21%)]\tLoss: 0.679386\t Accuracy:60.380%\n",
      "Epoch : 3 [19200/60000 (32%)]\tLoss: 0.339566\t Accuracy:60.956%\n",
      "Epoch : 3 [25600/60000 (43%)]\tLoss: 0.469344\t Accuracy:62.008%\n",
      "Epoch : 3 [32000/60000 (53%)]\tLoss: 0.462144\t Accuracy:63.118%\n",
      "Epoch : 3 [38400/60000 (64%)]\tLoss: 0.316459\t Accuracy:63.988%\n",
      "Epoch : 3 [44800/60000 (75%)]\tLoss: 0.395523\t Accuracy:64.793%\n",
      "Epoch : 3 [51200/60000 (85%)]\tLoss: 0.313539\t Accuracy:65.432%\n",
      "Epoch : 3 [57600/60000 (96%)]\tLoss: 0.290050\t Accuracy:65.972%\n",
      "Epoch : 4 [0/60000 (0%)]\tLoss: 0.382496\t Accuracy:56.250%\n",
      "Epoch : 4 [6400/60000 (11%)]\tLoss: 0.419162\t Accuracy:70.414%\n",
      "Epoch : 4 [12800/60000 (21%)]\tLoss: 0.540615\t Accuracy:70.340%\n",
      "Epoch : 4 [19200/60000 (32%)]\tLoss: 0.252920\t Accuracy:70.591%\n",
      "Epoch : 4 [25600/60000 (43%)]\tLoss: 0.413064\t Accuracy:70.915%\n",
      "Epoch : 4 [32000/60000 (53%)]\tLoss: 0.352745\t Accuracy:70.954%\n",
      "Epoch : 4 [38400/60000 (64%)]\tLoss: 0.293308\t Accuracy:70.884%\n",
      "Epoch : 4 [44800/60000 (75%)]\tLoss: 0.443041\t Accuracy:70.983%\n",
      "Epoch : 4 [51200/60000 (85%)]\tLoss: 0.314340\t Accuracy:71.034%\n",
      "Epoch : 4 [57600/60000 (96%)]\tLoss: 0.259581\t Accuracy:71.124%\n"
     ]
    }
   ],
   "source": [
    "torch.manual_seed(SEED)\n",
    "smlp = StudentMLP()\n",
    "distill(mlp, smlp, train_loader, temperature=2.0)"
   ]
  },
  {
   "cell_type": "code",
   "execution_count": 30,
   "metadata": {},
   "outputs": [
    {
     "name": "stdout",
     "output_type": "stream",
     "text": [
      "Test accuracy:0.718% \n"
     ]
    }
   ],
   "source": [
    "evaluate(smlp)"
   ]
  },
  {
   "cell_type": "code",
   "execution_count": null,
   "metadata": {},
   "outputs": [],
   "source": []
  },
  {
   "cell_type": "code",
   "execution_count": 31,
   "metadata": {},
   "outputs": [
    {
     "name": "stdout",
     "output_type": "stream",
     "text": [
      "Epoch : 0 [0/60000 (0%)]\tLoss: 19.113735\t Accuracy:9.375%\n",
      "Epoch : 0 [6400/60000 (11%)]\tLoss: 1.088714\t Accuracy:18.626%\n",
      "Epoch : 0 [12800/60000 (21%)]\tLoss: 1.027413\t Accuracy:20.940%\n",
      "Epoch : 0 [19200/60000 (32%)]\tLoss: 0.979876\t Accuracy:22.062%\n",
      "Epoch : 0 [25600/60000 (43%)]\tLoss: 0.832493\t Accuracy:23.763%\n",
      "Epoch : 0 [32000/60000 (53%)]\tLoss: 0.939549\t Accuracy:24.632%\n",
      "Epoch : 0 [38400/60000 (64%)]\tLoss: 1.208642\t Accuracy:26.517%\n",
      "Epoch : 0 [44800/60000 (75%)]\tLoss: 0.693540\t Accuracy:27.955%\n",
      "Epoch : 0 [51200/60000 (85%)]\tLoss: 0.701821\t Accuracy:29.780%\n",
      "Epoch : 0 [57600/60000 (96%)]\tLoss: 0.634311\t Accuracy:31.203%\n",
      "Epoch : 1 [0/60000 (0%)]\tLoss: 0.766185\t Accuracy:34.375%\n",
      "Epoch : 1 [6400/60000 (11%)]\tLoss: 0.766767\t Accuracy:43.766%\n",
      "Epoch : 1 [12800/60000 (21%)]\tLoss: 1.017757\t Accuracy:43.875%\n",
      "Epoch : 1 [19200/60000 (32%)]\tLoss: 0.648921\t Accuracy:43.734%\n",
      "Epoch : 1 [25600/60000 (43%)]\tLoss: 0.623931\t Accuracy:44.245%\n",
      "Epoch : 1 [32000/60000 (53%)]\tLoss: 0.683474\t Accuracy:44.150%\n",
      "Epoch : 1 [38400/60000 (64%)]\tLoss: 0.686766\t Accuracy:44.372%\n",
      "Epoch : 1 [44800/60000 (75%)]\tLoss: 0.621797\t Accuracy:44.370%\n",
      "Epoch : 1 [51200/60000 (85%)]\tLoss: 0.613578\t Accuracy:44.418%\n",
      "Epoch : 1 [57600/60000 (96%)]\tLoss: 0.566525\t Accuracy:44.434%\n",
      "Epoch : 2 [0/60000 (0%)]\tLoss: 0.766421\t Accuracy:31.250%\n",
      "Epoch : 2 [6400/60000 (11%)]\tLoss: 0.709590\t Accuracy:44.823%\n",
      "Epoch : 2 [12800/60000 (21%)]\tLoss: 1.007651\t Accuracy:45.340%\n",
      "Epoch : 2 [19200/60000 (32%)]\tLoss: 0.656016\t Accuracy:45.544%\n",
      "Epoch : 2 [25600/60000 (43%)]\tLoss: 0.611650\t Accuracy:46.618%\n",
      "Epoch : 2 [32000/60000 (53%)]\tLoss: 0.613471\t Accuracy:47.140%\n",
      "Epoch : 2 [38400/60000 (64%)]\tLoss: 0.617596\t Accuracy:48.293%\n",
      "Epoch : 2 [44800/60000 (75%)]\tLoss: 0.550123\t Accuracy:48.932%\n",
      "Epoch : 2 [51200/60000 (85%)]\tLoss: 0.514397\t Accuracy:49.493%\n",
      "Epoch : 2 [57600/60000 (96%)]\tLoss: 0.466993\t Accuracy:49.853%\n",
      "Epoch : 3 [0/60000 (0%)]\tLoss: 0.662479\t Accuracy:43.750%\n",
      "Epoch : 3 [6400/60000 (11%)]\tLoss: 0.714922\t Accuracy:54.089%\n",
      "Epoch : 3 [12800/60000 (21%)]\tLoss: 0.852117\t Accuracy:54.317%\n",
      "Epoch : 3 [19200/60000 (32%)]\tLoss: 0.512686\t Accuracy:54.025%\n",
      "Epoch : 3 [25600/60000 (43%)]\tLoss: 0.498418\t Accuracy:54.405%\n",
      "Epoch : 3 [32000/60000 (53%)]\tLoss: 0.568909\t Accuracy:54.249%\n",
      "Epoch : 3 [38400/60000 (64%)]\tLoss: 0.597784\t Accuracy:54.390%\n",
      "Epoch : 3 [44800/60000 (75%)]\tLoss: 0.452367\t Accuracy:54.619%\n",
      "Epoch : 3 [51200/60000 (85%)]\tLoss: 0.441858\t Accuracy:54.821%\n",
      "Epoch : 3 [57600/60000 (96%)]\tLoss: 0.440267\t Accuracy:54.895%\n",
      "Epoch : 4 [0/60000 (0%)]\tLoss: 0.603873\t Accuracy:37.500%\n",
      "Epoch : 4 [6400/60000 (11%)]\tLoss: 0.648780\t Accuracy:56.514%\n",
      "Epoch : 4 [12800/60000 (21%)]\tLoss: 0.790738\t Accuracy:57.325%\n",
      "Epoch : 4 [19200/60000 (32%)]\tLoss: 0.466781\t Accuracy:57.763%\n",
      "Epoch : 4 [25600/60000 (43%)]\tLoss: 0.513858\t Accuracy:57.963%\n",
      "Epoch : 4 [32000/60000 (53%)]\tLoss: 0.494195\t Accuracy:57.786%\n",
      "Epoch : 4 [38400/60000 (64%)]\tLoss: 0.568906\t Accuracy:57.783%\n",
      "Epoch : 4 [44800/60000 (75%)]\tLoss: 0.438708\t Accuracy:58.117%\n",
      "Epoch : 4 [51200/60000 (85%)]\tLoss: 0.400430\t Accuracy:58.422%\n",
      "Epoch : 4 [57600/60000 (96%)]\tLoss: 0.408588\t Accuracy:58.601%\n"
     ]
    }
   ],
   "source": [
    "torch.manual_seed(SEED)\n",
    "smlp = StudentMLP()\n",
    "distill(mlp, smlp, train_loader, temperature=1.5)"
   ]
  },
  {
   "cell_type": "code",
   "execution_count": 32,
   "metadata": {},
   "outputs": [
    {
     "name": "stdout",
     "output_type": "stream",
     "text": [
      "Test accuracy:0.576% \n"
     ]
    }
   ],
   "source": [
    "evaluate(smlp)"
   ]
  },
  {
   "cell_type": "code",
   "execution_count": null,
   "metadata": {},
   "outputs": [],
   "source": []
  },
  {
   "cell_type": "markdown",
   "metadata": {},
   "source": [
    "Также можем попробовать изменить веса для слагаемых в ошибке.\n",
    "Возьмем модель с T = 5 и попробуем изменением весов ее улучшить"
   ]
  },
  {
   "cell_type": "code",
   "execution_count": 33,
   "metadata": {},
   "outputs": [
    {
     "name": "stdout",
     "output_type": "stream",
     "text": [
      "Epoch : 0 [0/60000 (0%)]\tLoss: 28.813070\t Accuracy:9.375%\n",
      "Epoch : 0 [6400/60000 (11%)]\tLoss: 1.663249\t Accuracy:21.797%\n",
      "Epoch : 0 [12800/60000 (21%)]\tLoss: 1.506650\t Accuracy:26.675%\n",
      "Epoch : 0 [19200/60000 (32%)]\tLoss: 1.278597\t Accuracy:30.891%\n",
      "Epoch : 0 [25600/60000 (43%)]\tLoss: 1.045085\t Accuracy:33.630%\n",
      "Epoch : 0 [32000/60000 (53%)]\tLoss: 1.188174\t Accuracy:35.589%\n",
      "Epoch : 0 [38400/60000 (64%)]\tLoss: 2.018281\t Accuracy:37.940%\n",
      "Epoch : 0 [44800/60000 (75%)]\tLoss: 1.068962\t Accuracy:39.425%\n",
      "Epoch : 0 [51200/60000 (85%)]\tLoss: 0.856626\t Accuracy:40.748%\n",
      "Epoch : 0 [57600/60000 (96%)]\tLoss: 0.808763\t Accuracy:41.850%\n",
      "Epoch : 1 [0/60000 (0%)]\tLoss: 0.870942\t Accuracy:65.625%\n",
      "Epoch : 1 [6400/60000 (11%)]\tLoss: 1.193262\t Accuracy:52.752%\n",
      "Epoch : 1 [12800/60000 (21%)]\tLoss: 1.201379\t Accuracy:53.647%\n",
      "Epoch : 1 [19200/60000 (32%)]\tLoss: 0.740859\t Accuracy:54.435%\n",
      "Epoch : 1 [25600/60000 (43%)]\tLoss: 0.811783\t Accuracy:54.877%\n",
      "Epoch : 1 [32000/60000 (53%)]\tLoss: 0.841314\t Accuracy:55.176%\n",
      "Epoch : 1 [38400/60000 (64%)]\tLoss: 0.928411\t Accuracy:55.573%\n",
      "Epoch : 1 [44800/60000 (75%)]\tLoss: 0.926705\t Accuracy:55.860%\n",
      "Epoch : 1 [51200/60000 (85%)]\tLoss: 0.698444\t Accuracy:56.201%\n",
      "Epoch : 1 [57600/60000 (96%)]\tLoss: 0.628376\t Accuracy:56.297%\n",
      "Epoch : 2 [0/60000 (0%)]\tLoss: 0.783548\t Accuracy:65.625%\n",
      "Epoch : 2 [6400/60000 (11%)]\tLoss: 0.838629\t Accuracy:57.618%\n",
      "Epoch : 2 [12800/60000 (21%)]\tLoss: 1.106815\t Accuracy:59.500%\n",
      "Epoch : 2 [19200/60000 (32%)]\tLoss: 0.700526\t Accuracy:61.210%\n",
      "Epoch : 2 [25600/60000 (43%)]\tLoss: 0.728684\t Accuracy:62.399%\n",
      "Epoch : 2 [32000/60000 (53%)]\tLoss: 0.795604\t Accuracy:62.628%\n",
      "Epoch : 2 [38400/60000 (64%)]\tLoss: 0.662509\t Accuracy:63.525%\n",
      "Epoch : 2 [44800/60000 (75%)]\tLoss: 0.719456\t Accuracy:64.173%\n",
      "Epoch : 2 [51200/60000 (85%)]\tLoss: 0.402946\t Accuracy:64.831%\n",
      "Epoch : 2 [57600/60000 (96%)]\tLoss: 0.630952\t Accuracy:65.311%\n",
      "Epoch : 3 [0/60000 (0%)]\tLoss: 0.616608\t Accuracy:53.125%\n",
      "Epoch : 3 [6400/60000 (11%)]\tLoss: 0.624313\t Accuracy:69.434%\n",
      "Epoch : 3 [12800/60000 (21%)]\tLoss: 0.861793\t Accuracy:69.802%\n",
      "Epoch : 3 [19200/60000 (32%)]\tLoss: 0.421276\t Accuracy:69.910%\n",
      "Epoch : 3 [25600/60000 (43%)]\tLoss: 0.562684\t Accuracy:70.194%\n",
      "Epoch : 3 [32000/60000 (53%)]\tLoss: 0.778577\t Accuracy:69.840%\n",
      "Epoch : 3 [38400/60000 (64%)]\tLoss: 0.571401\t Accuracy:69.775%\n",
      "Epoch : 3 [44800/60000 (75%)]\tLoss: 0.585106\t Accuracy:69.990%\n",
      "Epoch : 3 [51200/60000 (85%)]\tLoss: 0.358057\t Accuracy:70.105%\n",
      "Epoch : 3 [57600/60000 (96%)]\tLoss: 0.394737\t Accuracy:70.150%\n",
      "Epoch : 4 [0/60000 (0%)]\tLoss: 0.626922\t Accuracy:59.375%\n",
      "Epoch : 4 [6400/60000 (11%)]\tLoss: 0.658308\t Accuracy:70.802%\n",
      "Epoch : 4 [12800/60000 (21%)]\tLoss: 0.765742\t Accuracy:71.314%\n",
      "Epoch : 4 [19200/60000 (32%)]\tLoss: 0.361865\t Accuracy:71.345%\n",
      "Epoch : 4 [25600/60000 (43%)]\tLoss: 0.530483\t Accuracy:71.419%\n",
      "Epoch : 4 [32000/60000 (53%)]\tLoss: 0.695222\t Accuracy:71.035%\n",
      "Epoch : 4 [38400/60000 (64%)]\tLoss: 0.458204\t Accuracy:70.917%\n",
      "Epoch : 4 [44800/60000 (75%)]\tLoss: 0.580970\t Accuracy:71.199%\n",
      "Epoch : 4 [51200/60000 (85%)]\tLoss: 0.349195\t Accuracy:71.266%\n",
      "Epoch : 4 [57600/60000 (96%)]\tLoss: 0.385422\t Accuracy:71.275%\n"
     ]
    }
   ],
   "source": [
    "torch.manual_seed(SEED)\n",
    "smlp = StudentMLP()\n",
    "distill(mlp, smlp, train_loader, temperature=5.0, alpha=0.2)"
   ]
  },
  {
   "cell_type": "code",
   "execution_count": 34,
   "metadata": {},
   "outputs": [
    {
     "name": "stdout",
     "output_type": "stream",
     "text": [
      "Test accuracy:0.710% \n"
     ]
    }
   ],
   "source": [
    "evaluate(smlp)"
   ]
  },
  {
   "cell_type": "code",
   "execution_count": null,
   "metadata": {},
   "outputs": [],
   "source": []
  },
  {
   "cell_type": "code",
   "execution_count": 35,
   "metadata": {},
   "outputs": [
    {
     "name": "stdout",
     "output_type": "stream",
     "text": [
      "Epoch : 0 [0/60000 (0%)]\tLoss: 4.137208\t Accuracy:9.375%\n",
      "Epoch : 0 [6400/60000 (11%)]\tLoss: 0.231639\t Accuracy:19.885%\n",
      "Epoch : 0 [12800/60000 (21%)]\tLoss: 0.226190\t Accuracy:25.553%\n",
      "Epoch : 0 [19200/60000 (32%)]\tLoss: 0.209725\t Accuracy:28.063%\n",
      "Epoch : 0 [25600/60000 (43%)]\tLoss: 0.185707\t Accuracy:31.164%\n",
      "Epoch : 0 [32000/60000 (53%)]\tLoss: 0.201776\t Accuracy:33.348%\n",
      "Epoch : 0 [38400/60000 (64%)]\tLoss: 0.190182\t Accuracy:35.681%\n",
      "Epoch : 0 [44800/60000 (75%)]\tLoss: 0.149032\t Accuracy:37.734%\n",
      "Epoch : 0 [51200/60000 (85%)]\tLoss: 0.126203\t Accuracy:39.616%\n",
      "Epoch : 0 [57600/60000 (96%)]\tLoss: 0.117845\t Accuracy:41.654%\n",
      "Epoch : 1 [0/60000 (0%)]\tLoss: 0.118269\t Accuracy:68.750%\n",
      "Epoch : 1 [6400/60000 (11%)]\tLoss: 0.145554\t Accuracy:60.759%\n",
      "Epoch : 1 [12800/60000 (21%)]\tLoss: 0.192144\t Accuracy:62.718%\n",
      "Epoch : 1 [19200/60000 (32%)]\tLoss: 0.080345\t Accuracy:63.472%\n",
      "Epoch : 1 [25600/60000 (43%)]\tLoss: 0.095022\t Accuracy:63.955%\n",
      "Epoch : 1 [32000/60000 (53%)]\tLoss: 0.093581\t Accuracy:64.351%\n",
      "Epoch : 1 [38400/60000 (64%)]\tLoss: 0.082338\t Accuracy:64.948%\n",
      "Epoch : 1 [44800/60000 (75%)]\tLoss: 0.087700\t Accuracy:65.774%\n",
      "Epoch : 1 [51200/60000 (85%)]\tLoss: 0.075883\t Accuracy:66.464%\n",
      "Epoch : 1 [57600/60000 (96%)]\tLoss: 0.058990\t Accuracy:67.056%\n",
      "Epoch : 2 [0/60000 (0%)]\tLoss: 0.088551\t Accuracy:65.625%\n",
      "Epoch : 2 [6400/60000 (11%)]\tLoss: 0.062375\t Accuracy:72.295%\n",
      "Epoch : 2 [12800/60000 (21%)]\tLoss: 0.131630\t Accuracy:72.257%\n",
      "Epoch : 2 [19200/60000 (32%)]\tLoss: 0.058842\t Accuracy:72.645%\n",
      "Epoch : 2 [25600/60000 (43%)]\tLoss: 0.077669\t Accuracy:72.819%\n",
      "Epoch : 2 [32000/60000 (53%)]\tLoss: 0.088063\t Accuracy:72.865%\n",
      "Epoch : 2 [38400/60000 (64%)]\tLoss: 0.073031\t Accuracy:72.796%\n",
      "Epoch : 2 [44800/60000 (75%)]\tLoss: 0.094738\t Accuracy:72.943%\n",
      "Epoch : 2 [51200/60000 (85%)]\tLoss: 0.069978\t Accuracy:72.991%\n",
      "Epoch : 2 [57600/60000 (96%)]\tLoss: 0.048257\t Accuracy:73.081%\n",
      "Epoch : 3 [0/60000 (0%)]\tLoss: 0.070212\t Accuracy:65.625%\n",
      "Epoch : 3 [6400/60000 (11%)]\tLoss: 0.058140\t Accuracy:74.689%\n",
      "Epoch : 3 [12800/60000 (21%)]\tLoss: 0.120410\t Accuracy:74.353%\n",
      "Epoch : 3 [19200/60000 (32%)]\tLoss: 0.055320\t Accuracy:74.470%\n",
      "Epoch : 3 [25600/60000 (43%)]\tLoss: 0.071735\t Accuracy:74.571%\n",
      "Epoch : 3 [32000/60000 (53%)]\tLoss: 0.079634\t Accuracy:74.454%\n",
      "Epoch : 3 [38400/60000 (64%)]\tLoss: 0.057941\t Accuracy:74.279%\n",
      "Epoch : 3 [44800/60000 (75%)]\tLoss: 0.091507\t Accuracy:74.525%\n",
      "Epoch : 3 [51200/60000 (85%)]\tLoss: 0.062992\t Accuracy:74.957%\n",
      "Epoch : 3 [57600/60000 (96%)]\tLoss: 0.042328\t Accuracy:75.031%\n",
      "Epoch : 4 [0/60000 (0%)]\tLoss: 0.061573\t Accuracy:84.375%\n",
      "Epoch : 4 [6400/60000 (11%)]\tLoss: 0.079543\t Accuracy:77.767%\n",
      "Epoch : 4 [12800/60000 (21%)]\tLoss: 0.100993\t Accuracy:77.681%\n",
      "Epoch : 4 [19200/60000 (32%)]\tLoss: 0.043108\t Accuracy:77.647%\n",
      "Epoch : 4 [25600/60000 (43%)]\tLoss: 0.070574\t Accuracy:77.723%\n",
      "Epoch : 4 [32000/60000 (53%)]\tLoss: 0.075969\t Accuracy:77.566%\n",
      "Epoch : 4 [38400/60000 (64%)]\tLoss: 0.055659\t Accuracy:77.581%\n",
      "Epoch : 4 [44800/60000 (75%)]\tLoss: 0.078140\t Accuracy:77.737%\n",
      "Epoch : 4 [51200/60000 (85%)]\tLoss: 0.050270\t Accuracy:77.848%\n",
      "Epoch : 4 [57600/60000 (96%)]\tLoss: 0.043416\t Accuracy:77.849%\n"
     ]
    }
   ],
   "source": [
    "torch.manual_seed(SEED)\n",
    "smlp = StudentMLP()\n",
    "distill(mlp, smlp, train_loader, temperature=5, alpha=0.9)"
   ]
  },
  {
   "cell_type": "code",
   "execution_count": 36,
   "metadata": {},
   "outputs": [
    {
     "name": "stdout",
     "output_type": "stream",
     "text": [
      "Test accuracy:0.786% \n"
     ]
    }
   ],
   "source": [
    "evaluate(smlp)"
   ]
  },
  {
   "cell_type": "markdown",
   "metadata": {},
   "source": [
    "Видно, что обучение чувствительно к тому, на что должна смотреть модель - на правильный ответ или на \"интуицию\" большой модели.\n",
    "\n",
    "В итоге, у нас получилось обучить модель в 20 раз меньше оригинальной при этом не слишком сильно потерять в качестве."
   ]
  },
  {
   "cell_type": "code",
   "execution_count": null,
   "metadata": {},
   "outputs": [],
   "source": []
  }
 ],
 "metadata": {
  "kernelspec": {
   "display_name": "Python 3",
   "language": "python",
   "name": "python3"
  },
  "language_info": {
   "codemirror_mode": {
    "name": "ipython",
    "version": 3
   },
   "file_extension": ".py",
   "mimetype": "text/x-python",
   "name": "python",
   "nbconvert_exporter": "python",
   "pygments_lexer": "ipython3",
   "version": "3.6.5"
  }
 },
 "nbformat": 4,
 "nbformat_minor": 4
}
