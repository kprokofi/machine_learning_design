{
 "cells": [
  {
   "cell_type": "markdown",
   "metadata": {},
   "source": [
    "<img src=\"img/docker-logo.png\">\n",
    "https://www.docker.com/"
   ]
  },
  {
   "cell_type": "markdown",
   "metadata": {},
   "source": [
    "Docker\n",
    "\n",
    "Docker - это самая популярная система контейнеризации приложений. По техническим причинам, у нас нет возможности запустить и продемонстрировать возможности Docker внутри Coursera Labs, так как они сами используют Docker для своей работы.\n",
    "\n",
    "Поэтому для демонстрации возможностей докера, мы воспользуемся сервисом **play-with-docker.com** , который спонсируется самими разработчиками.\n",
    "Этот сервис позволяет запустить виртуальное окружение на 4 часа с установленными инструментами докера.\n",
    "\n",
    "# [Открыть Play With Docker](https://labs.play-with-docker.com/)\n",
    "\n",
    "Для работы с этим сервисом, необходимо пройти регистрацию на официальном сайте docker.com. \n",
    "\n",
    "Ниже в ноутбуке будут команды, которые можно запускать внутри play with docker."
   ]
  },
  {
   "cell_type": "markdown",
   "metadata": {},
   "source": [
    "Первое что нужно сделать - это создать новый инстанс (виртуальну машину). Для текущих задач нам хватит ровно одной машины. В следующей лабораторной мы разберем, как управлять сразу кластером машин."
   ]
  },
  {
   "cell_type": "code",
   "execution_count": null,
   "metadata": {},
   "outputs": [],
   "source": []
  },
  {
   "cell_type": "markdown",
   "metadata": {},
   "source": [
    "# Dockerfile\n",
    "\n",
    "Создадим файл Dockerfile. В нем будем писать документацию по разработке."
   ]
  },
  {
   "cell_type": "markdown",
   "metadata": {},
   "source": [
    "```bash\n",
    "touch Dockerfile\n",
    "```"
   ]
  },
  {
   "cell_type": "markdown",
   "metadata": {},
   "source": [
    "После создания файла, можно нажать Editor и добавить содержимое файла через графический интерфейс сайта.\n",
    "Добавим туда самый простой докерфайл, который был на лекции."
   ]
  },
  {
   "cell_type": "markdown",
   "metadata": {},
   "source": [
    "```dockerfile\n",
    "FROM ubuntu:16.04\n",
    "\n",
    "ENTRYPOINT [\"/bin/bash\", \"-c\", \"echo hello\"]\n",
    "\n",
    "```"
   ]
  },
  {
   "cell_type": "markdown",
   "metadata": {},
   "source": [
    "Соберем этот контейнер и назовем его my-first-container"
   ]
  },
  {
   "cell_type": "markdown",
   "metadata": {},
   "source": [
    "```bash\n",
    "docker build -t my-first-container:latest .\n",
    "```"
   ]
  },
  {
   "cell_type": "markdown",
   "metadata": {},
   "source": [
    "Отлично, контейнер собрался!\n",
    "Запустим его\n",
    "\n",
    "```bash\n",
    "docker run my-first-container:latest\n",
    "```\n",
    "\n",
    "Если все было сделано правильно, на экран должно было быть выведенно жизнерадостное hello.\n",
    "\n",
    "\n",
    "# Контейнеризируем программу на Python\n",
    "\n",
    "Попробуем собрать что-то более сложное - для этого нам потребуется Python.\n",
    "По умолчанию его нет в образе. Чтобы он оказался у нас в контейнере можно или установить его самому или использовать базовый образ, в котором уже есть python.\n",
    "\n",
    "\n",
    "1 - Устанавливаем самостоятельно\n",
    "```dockerfile\n",
    "FROM ubuntu:16.04\n",
    "\n",
    "RUN apt-get -y update && apt-get install python3 -y\n",
    "\n",
    "ENTRYPOINT [\"python3\", \"-c\", \"print('hello from python')\"]\n",
    "```\n",
    "\n",
    "2 - Используем уже готовый образ\n",
    "```dockerfile\n",
    "FROM python:3.7\n",
    "\n",
    "ENTRYPOINT [\"python3\", \"-c\", \"print('hello from python')\"]\n",
    "```\n",
    "\n",
    "Сохраняем любой вариант в Dockerfile, собираем и проверяем работоспособность нашего контейнера.\n",
    "\n",
    "```bash\n",
    "docker build -t my-python-hello:latest .\n",
    "docker run my-python-hello:latest\n",
    "```"
   ]
  },
  {
   "cell_type": "code",
   "execution_count": null,
   "metadata": {},
   "outputs": [],
   "source": []
  },
  {
   "cell_type": "markdown",
   "metadata": {},
   "source": [
    "# Пакуем внешний скрипт в контейнер\n",
    "\n",
    "Пора добавить в наш контейнер более сложную программу\n",
    "\n",
    "Создадим application.py, добавим в него код, который бы выводил текущую директорию и ее содержимое. Этот файл после добавим в наш конейнер и запустим.\n",
    "\n",
    "\n",
    "*application.py*\n",
    "```python\n",
    "import os\n",
    "\n",
    "print(\"Right now I am here - {}\".format(os.getcwd()))\n",
    "\n",
    "content = os.listdir('.')\n",
    "print(\"There are {} elements in this directory\".format(len(content)))\n",
    "for element in content:\n",
    "    print(element)\n",
    "```\n",
    "\n",
    "\n",
    "Перед сборкой проверим, что сам файл успешно запускается\n",
    "```bash\n",
    "python3 application.py\n",
    "```\n",
    "\n",
    "\n",
    "Теперь соберем \n",
    "\n",
    "*Dockerfile*\n",
    "```dockerfile\n",
    "FROM python:3.7\n",
    "\n",
    "COPY application.py application.py\n",
    "\n",
    "ENTRYPOINT [\"python3\", \"application.py\"]\n",
    "```\n",
    "\n",
    "и запустим внутри контейнера\n",
    "\n",
    "\n",
    "```bash\n",
    "docker build -t python-ls:latest .\n",
    "docker run python-ls:latest\n",
    "```\n",
    "\n",
    "Важно отметить, что вывод программы отличается! Так происходит, потому что приложение в контейнере изолировано от основной операционной системы и внутри имеет свою собственную файловую систему."
   ]
  },
  {
   "cell_type": "code",
   "execution_count": null,
   "metadata": {},
   "outputs": [],
   "source": []
  },
  {
   "cell_type": "markdown",
   "metadata": {},
   "source": [
    "# Проброс параметров командной строки\n",
    "\n",
    "Чтобы программа внутри контейнера могла быть полезной, необходимо научиться коммуницировать с ней извне.\n",
    "\n",
    "Самый базовый способ - это проброс параметров. Все параметры, которые будут переданы после названия контейнера в команде `docker run` будут переданы внутри контейнера как обычные параметры.\n",
    "\n",
    "Создадим программу на python, которая будет получать число и печатать слово Hello указанное количество раз.\n",
    "\n",
    "*application.py*\n",
    "```python\n",
    "import sys\n",
    "\n",
    "N = int(sys.argv[1])\n",
    "for i in range(N):\n",
    "    print(\"Hello\")\n",
    "   \n",
    "```\n",
    "\n",
    "Теперь соберем и попробуем запустить с параметрами\n",
    "```bash\n",
    "docker build -t python-hello:latest .\n",
    "docker run python-hello:latest 3\n",
    "docker run python-hello:latest 10\n",
    "```"
   ]
  },
  {
   "cell_type": "code",
   "execution_count": null,
   "metadata": {},
   "outputs": [],
   "source": []
  },
  {
   "cell_type": "markdown",
   "metadata": {},
   "source": [
    "# Монтирование директории\n",
    "\n",
    "Следующий способ взаимодействия с конейнером - это монтирование директории. Примонтированная директория становится общей для конейнера и основной операционной системы. Это позволяет передавать внутрь докера какие-то файлы для обработки, а также получать какие-то файловые результаты из докера.\n",
    "\n",
    "Модифицируем нашу предыдущую программу, чтобы она показывала состояние директории `/sync-folder` , в которую мы будем монтировать различные директории извне.\n",
    "\n",
    "\n",
    "*application.py*\n",
    "```python\n",
    "import os\n",
    "import sys\n",
    "\n",
    "target_dir = sys.argv[1]\n",
    "\n",
    "print(\"Observe directory - {}\".format(target_dir))\n",
    "\n",
    "content = os.listdir(target_dir)\n",
    "print(\"There are {} elements in this directory\".format(len(content)))\n",
    "for element in content:\n",
    "    print(element)\n",
    "```\n",
    "\n",
    "Теперь соберем и попробуем запустить с примонтированной директорией. Для монтирования необходимо указать флаг `-v` в котором указать через двоеточие какие директории мы хотим засинхронизировать. Первая директория - из основной ОС, вторая - внутри контейнера.\n",
    "\n",
    "```bash\n",
    "docker build -t python-ls:latest .\n",
    "\n",
    "docker run -v /root:/sync-folder python-ls:latest /sync-folder\n",
    "docker run -v /:/sync-folder python-ls:latest /sync-folder\n",
    "```\n",
    "\n",
    "Если мы не укажем параметры монтирования, то такой директории не появится внутри контейнера и соответственно наша программа просто упадет, не найдя ее.\n",
    "\n",
    "```bash\n",
    "docker run python-ls:latest\n",
    "```"
   ]
  },
  {
   "cell_type": "code",
   "execution_count": null,
   "metadata": {},
   "outputs": [],
   "source": []
  },
  {
   "cell_type": "markdown",
   "metadata": {},
   "source": [
    "# Проброс портов\n",
    "\n",
    "Наиболее частый способ коммуницирования с контейнером - это проброс портов. Для этого указываются два порта - один для основной ОС, второй для контейнера. Все соединения с внешним портом будут пробрасываться внутрь контейнера. Для проброса необходим использовать ключ `-p` - формат точно такой же, как и у `-v`. \n",
    "\n",
    "Для демонстрации этой фукнции, воспользуемся встроенным в python модулем http.server, который поднимает файловый сервер в директории, из которой был запущен. Для начала просто проверим, как он работает.\n",
    "\n",
    "\n",
    "Запустим\n",
    "```bash\n",
    "python3 -m http.server --bind 0.0.0.0 8000\n",
    "```\n",
    "\n",
    "Это должно запустить файловый сервер в текущей директории.\n",
    "\n",
    "Чтобы проверить, что он работает, нажмем на `OPEN PORT` и укажем там 8000.\n",
    "\n",
    "В браузере мы должны увидеть содержимое текущей директории.\n",
    "\n",
    "Попробуем теперь упаковать это внутрь контейнера.\n",
    "\n",
    "\n",
    "*Dockerfile*\n",
    "```dockerfile\n",
    "FROM python:3.7\n",
    "\n",
    "WORKDIR /sync-folder\n",
    "\n",
    "ENTRYPOINT [\"python3\", \"-m\", \"http.server\", \"--bind\", \"0.0.0.0\", \"8080\"]\n",
    "```\n",
    "\n",
    "Собираем и проверяем\n",
    "\n",
    "```bash\n",
    "docker build -t python-server:latest .\n",
    "docker run -v /root:/sync-folder -p 9090:8080 python-server:latest\n",
    "```\n",
    "\n",
    "Открываем 9090 порт с помощью `OPEN PORT` и проверяем, что действительно работает\n",
    "\n",
    "Схема того, как это работает:\n",
    "<img src=\"img/python-server-schema.png\">\n",
    "\n",
    "Теперь этот контейнер можно использовать даже на тех машинах, на которых не установлен Python! Все зависимости лежат уже внутри контейнера и для запуска требуется лишь Docker."
   ]
  },
  {
   "cell_type": "code",
   "execution_count": null,
   "metadata": {},
   "outputs": [],
   "source": []
  }
 ],
 "metadata": {
  "kernelspec": {
   "display_name": "Python 3",
   "language": "python",
   "name": "python3"
  },
  "language_info": {
   "codemirror_mode": {
    "name": "ipython",
    "version": 3
   },
   "file_extension": ".py",
   "mimetype": "text/x-python",
   "name": "python",
   "nbconvert_exporter": "python",
   "pygments_lexer": "ipython3",
   "version": "3.7.6"
  }
 },
 "nbformat": 4,
 "nbformat_minor": 2
}
