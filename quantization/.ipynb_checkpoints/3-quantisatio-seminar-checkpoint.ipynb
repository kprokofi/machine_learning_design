{
 "cells": [
  {
   "cell_type": "markdown",
   "metadata": {},
   "source": [
    "# Квантизация нейронных сетей\n",
    "\n",
    "В этой лабораторной попробуем уменьшить размер нейронной сети, а также усторить ее работу, заменяя float на int внутри сети."
   ]
  },
  {
   "cell_type": "code",
   "execution_count": 1,
   "metadata": {},
   "outputs": [],
   "source": [
    "import numpy as np\n",
    "import pandas as pd\n",
    "import matplotlib.pyplot as plt\n",
    "\n",
    "import os\n",
    "import torch\n",
    "import torch.nn as nn\n",
    "from torch.autograd import Variable\n",
    "import torch.nn.functional as F\n",
    "\n",
    "import copy\n",
    "\n",
    "import torchvision\n",
    "import torchvision.transforms as transforms\n",
    "from torch.utils.data import Dataset, DataLoader\n",
    "from sklearn.metrics import confusion_matrix\n",
    "from torch.quantization import QuantStub, DeQuantStub"
   ]
  },
  {
   "cell_type": "code",
   "execution_count": 2,
   "metadata": {},
   "outputs": [
    {
     "data": {
      "text/plain": [
       "<torch._C.Generator at 0x7f3f75d16390>"
      ]
     },
     "execution_count": 2,
     "metadata": {},
     "output_type": "execute_result"
    }
   ],
   "source": [
    "SEED=9876\n",
    "torch.manual_seed(SEED)"
   ]
  },
  {
   "cell_type": "markdown",
   "metadata": {},
   "source": [
    "Вновь пробуем обучить сеть из трех полносвязных слоев на fashion mnist."
   ]
  },
  {
   "cell_type": "code",
   "execution_count": 3,
   "metadata": {},
   "outputs": [],
   "source": [
    "train_csv = pd.read_csv(\"/data/fashion-mnist_train.csv\")\n",
    "test_csv = pd.read_csv(\"/data/fashion-mnist_test.csv\")"
   ]
  },
  {
   "cell_type": "code",
   "execution_count": 4,
   "metadata": {},
   "outputs": [],
   "source": [
    "device = torch.device(\"cpu\")"
   ]
  },
  {
   "cell_type": "code",
   "execution_count": 5,
   "metadata": {},
   "outputs": [
    {
     "data": {
      "text/html": [
       "<div>\n",
       "<style scoped>\n",
       "    .dataframe tbody tr th:only-of-type {\n",
       "        vertical-align: middle;\n",
       "    }\n",
       "\n",
       "    .dataframe tbody tr th {\n",
       "        vertical-align: top;\n",
       "    }\n",
       "\n",
       "    .dataframe thead th {\n",
       "        text-align: right;\n",
       "    }\n",
       "</style>\n",
       "<table border=\"1\" class=\"dataframe\">\n",
       "  <thead>\n",
       "    <tr style=\"text-align: right;\">\n",
       "      <th></th>\n",
       "      <th>label</th>\n",
       "      <th>pixel1</th>\n",
       "      <th>pixel2</th>\n",
       "      <th>pixel3</th>\n",
       "      <th>pixel4</th>\n",
       "      <th>pixel5</th>\n",
       "      <th>pixel6</th>\n",
       "      <th>pixel7</th>\n",
       "      <th>pixel8</th>\n",
       "      <th>pixel9</th>\n",
       "      <th>...</th>\n",
       "      <th>pixel775</th>\n",
       "      <th>pixel776</th>\n",
       "      <th>pixel777</th>\n",
       "      <th>pixel778</th>\n",
       "      <th>pixel779</th>\n",
       "      <th>pixel780</th>\n",
       "      <th>pixel781</th>\n",
       "      <th>pixel782</th>\n",
       "      <th>pixel783</th>\n",
       "      <th>pixel784</th>\n",
       "    </tr>\n",
       "  </thead>\n",
       "  <tbody>\n",
       "    <tr>\n",
       "      <th>0</th>\n",
       "      <td>2</td>\n",
       "      <td>0</td>\n",
       "      <td>0</td>\n",
       "      <td>0</td>\n",
       "      <td>0</td>\n",
       "      <td>0</td>\n",
       "      <td>0</td>\n",
       "      <td>0</td>\n",
       "      <td>0</td>\n",
       "      <td>0</td>\n",
       "      <td>...</td>\n",
       "      <td>0</td>\n",
       "      <td>0</td>\n",
       "      <td>0</td>\n",
       "      <td>0</td>\n",
       "      <td>0</td>\n",
       "      <td>0</td>\n",
       "      <td>0</td>\n",
       "      <td>0</td>\n",
       "      <td>0</td>\n",
       "      <td>0</td>\n",
       "    </tr>\n",
       "    <tr>\n",
       "      <th>1</th>\n",
       "      <td>9</td>\n",
       "      <td>0</td>\n",
       "      <td>0</td>\n",
       "      <td>0</td>\n",
       "      <td>0</td>\n",
       "      <td>0</td>\n",
       "      <td>0</td>\n",
       "      <td>0</td>\n",
       "      <td>0</td>\n",
       "      <td>0</td>\n",
       "      <td>...</td>\n",
       "      <td>0</td>\n",
       "      <td>0</td>\n",
       "      <td>0</td>\n",
       "      <td>0</td>\n",
       "      <td>0</td>\n",
       "      <td>0</td>\n",
       "      <td>0</td>\n",
       "      <td>0</td>\n",
       "      <td>0</td>\n",
       "      <td>0</td>\n",
       "    </tr>\n",
       "    <tr>\n",
       "      <th>2</th>\n",
       "      <td>6</td>\n",
       "      <td>0</td>\n",
       "      <td>0</td>\n",
       "      <td>0</td>\n",
       "      <td>0</td>\n",
       "      <td>0</td>\n",
       "      <td>0</td>\n",
       "      <td>0</td>\n",
       "      <td>5</td>\n",
       "      <td>0</td>\n",
       "      <td>...</td>\n",
       "      <td>0</td>\n",
       "      <td>0</td>\n",
       "      <td>0</td>\n",
       "      <td>30</td>\n",
       "      <td>43</td>\n",
       "      <td>0</td>\n",
       "      <td>0</td>\n",
       "      <td>0</td>\n",
       "      <td>0</td>\n",
       "      <td>0</td>\n",
       "    </tr>\n",
       "    <tr>\n",
       "      <th>3</th>\n",
       "      <td>0</td>\n",
       "      <td>0</td>\n",
       "      <td>0</td>\n",
       "      <td>0</td>\n",
       "      <td>1</td>\n",
       "      <td>2</td>\n",
       "      <td>0</td>\n",
       "      <td>0</td>\n",
       "      <td>0</td>\n",
       "      <td>0</td>\n",
       "      <td>...</td>\n",
       "      <td>3</td>\n",
       "      <td>0</td>\n",
       "      <td>0</td>\n",
       "      <td>0</td>\n",
       "      <td>0</td>\n",
       "      <td>1</td>\n",
       "      <td>0</td>\n",
       "      <td>0</td>\n",
       "      <td>0</td>\n",
       "      <td>0</td>\n",
       "    </tr>\n",
       "    <tr>\n",
       "      <th>4</th>\n",
       "      <td>3</td>\n",
       "      <td>0</td>\n",
       "      <td>0</td>\n",
       "      <td>0</td>\n",
       "      <td>0</td>\n",
       "      <td>0</td>\n",
       "      <td>0</td>\n",
       "      <td>0</td>\n",
       "      <td>0</td>\n",
       "      <td>0</td>\n",
       "      <td>...</td>\n",
       "      <td>0</td>\n",
       "      <td>0</td>\n",
       "      <td>0</td>\n",
       "      <td>0</td>\n",
       "      <td>0</td>\n",
       "      <td>0</td>\n",
       "      <td>0</td>\n",
       "      <td>0</td>\n",
       "      <td>0</td>\n",
       "      <td>0</td>\n",
       "    </tr>\n",
       "  </tbody>\n",
       "</table>\n",
       "<p>5 rows × 785 columns</p>\n",
       "</div>"
      ],
      "text/plain": [
       "   label  pixel1  pixel2  pixel3  pixel4  pixel5  pixel6  pixel7  pixel8  \\\n",
       "0      2       0       0       0       0       0       0       0       0   \n",
       "1      9       0       0       0       0       0       0       0       0   \n",
       "2      6       0       0       0       0       0       0       0       5   \n",
       "3      0       0       0       0       1       2       0       0       0   \n",
       "4      3       0       0       0       0       0       0       0       0   \n",
       "\n",
       "   pixel9    ...     pixel775  pixel776  pixel777  pixel778  pixel779  \\\n",
       "0       0    ...            0         0         0         0         0   \n",
       "1       0    ...            0         0         0         0         0   \n",
       "2       0    ...            0         0         0        30        43   \n",
       "3       0    ...            3         0         0         0         0   \n",
       "4       0    ...            0         0         0         0         0   \n",
       "\n",
       "   pixel780  pixel781  pixel782  pixel783  pixel784  \n",
       "0         0         0         0         0         0  \n",
       "1         0         0         0         0         0  \n",
       "2         0         0         0         0         0  \n",
       "3         1         0         0         0         0  \n",
       "4         0         0         0         0         0  \n",
       "\n",
       "[5 rows x 785 columns]"
      ]
     },
     "execution_count": 5,
     "metadata": {},
     "output_type": "execute_result"
    }
   ],
   "source": [
    "train_csv.head()"
   ]
  },
  {
   "cell_type": "code",
   "execution_count": 6,
   "metadata": {},
   "outputs": [],
   "source": [
    "y_train = train_csv['label'].values\n",
    "X_train = train_csv.drop(['label'],axis=1).values\n",
    "\n",
    "y_test = test_csv['label'].values\n",
    "X_test = test_csv.drop(['label'],axis=1).values"
   ]
  },
  {
   "cell_type": "code",
   "execution_count": 7,
   "metadata": {},
   "outputs": [
    {
     "data": {
      "text/plain": [
       "<matplotlib.image.AxesImage at 0x7fb667967400>"
      ]
     },
     "execution_count": 7,
     "metadata": {},
     "output_type": "execute_result"
    },
    {
     "data": {
      "image/png": "[encoded data removed]",
      "text/plain": [
       "<Figure size 432x288 with 1 Axes>"
      ]
     },
     "metadata": {},
     "output_type": "display_data"
    }
   ],
   "source": [
    "plt.imshow(X_train[3].reshape(28, 28))"
   ]
  },
  {
   "cell_type": "code",
   "execution_count": 8,
   "metadata": {},
   "outputs": [
    {
     "data": {
      "text/plain": [
       "<matplotlib.image.AxesImage at 0x7fb6675ee128>"
      ]
     },
     "execution_count": 8,
     "metadata": {},
     "output_type": "execute_result"
    },
    {
     "data": {
      "image/png": "[encoded data removed]",
      "text/plain": [
       "<Figure size 432x288 with 1 Axes>"
      ]
     },
     "metadata": {},
     "output_type": "display_data"
    }
   ],
   "source": [
    "plt.imshow(X_train[4].reshape(28, 28))"
   ]
  },
  {
   "cell_type": "code",
   "execution_count": 9,
   "metadata": {},
   "outputs": [],
   "source": [
    "BATCH_SIZE = 32\n",
    "\n",
    "torch_X_train = torch.from_numpy(X_train).type(torch.LongTensor)\n",
    "torch_y_train = torch.from_numpy(y_train).type(torch.LongTensor)\n",
    "torch_X_test = torch.from_numpy(X_test).type(torch.LongTensor)\n",
    "torch_y_test = torch.from_numpy(y_test).type(torch.LongTensor)\n",
    "\n",
    "train = torch.utils.data.TensorDataset(torch_X_train,torch_y_train)\n",
    "test = torch.utils.data.TensorDataset(torch_X_test,torch_y_test)\n",
    "\n",
    "train_loader = torch.utils.data.DataLoader(train, batch_size = BATCH_SIZE, shuffle = False)\n",
    "test_loader = torch.utils.data.DataLoader(test, batch_size = BATCH_SIZE, shuffle = False)"
   ]
  },
  {
   "cell_type": "code",
   "execution_count": 63,
   "metadata": {},
   "outputs": [
    {
     "name": "stdout",
     "output_type": "stream",
     "text": [
      "MLP(\n",
      "  (linear1): Linear(in_features=784, out_features=250, bias=True)\n",
      "  (linear2): Linear(in_features=250, out_features=100, bias=True)\n",
      "  (linear3): Linear(in_features=100, out_features=10, bias=True)\n",
      ")\n"
     ]
    }
   ],
   "source": [
    "class MLP(nn.Module):\n",
    "    def __init__(self):\n",
    "        super(MLP, self).__init__()\n",
    "        self.linear1 = nn.Linear(784,250)\n",
    "        self.linear2 = nn.Linear(250,100)\n",
    "        self.linear3 = nn.Linear(100,10)\n",
    "    \n",
    "    def forward(self,X):\n",
    "        X = F.relu(self.linear1(X))\n",
    "        X = F.relu(self.linear2(X))\n",
    "        X = self.linear3(X)\n",
    "        return X\n",
    "\n",
    "mlp = MLP()\n",
    "print(mlp)"
   ]
  },
  {
   "cell_type": "code",
   "execution_count": 64,
   "metadata": {},
   "outputs": [],
   "source": [
    "def fit(model, train_loader, epoch_number=5):\n",
    "    optimizer = torch.optim.Adam(model.parameters())\n",
    "    error = nn.CrossEntropyLoss()\n",
    "    model.train()\n",
    "    \n",
    "    for epoch in range(epoch_number):\n",
    "        correct = 0\n",
    "        \n",
    "        for batch_idx, (X_batch, y_batch) in enumerate(train_loader):\n",
    "            var_X_batch = Variable(X_batch).float()\n",
    "            var_y_batch = Variable(y_batch)\n",
    "            \n",
    "            optimizer.zero_grad()\n",
    "            output = model(var_X_batch)\n",
    "            loss = error(output, var_y_batch)\n",
    "            loss.backward()\n",
    "            optimizer.step()\n",
    "\n",
    "            predicted = torch.max(output.data, 1)[1] \n",
    "            correct += (predicted == var_y_batch).sum()\n",
    "            if batch_idx % 200 == 0:\n",
    "                print('Epoch : {} [{}/{} ({:.0f}%)]\\tLoss: {:.6f}\\t Accuracy:{:.3f}%'.format(\n",
    "                    epoch, batch_idx*len(X_batch), len(train_loader.dataset), 100.*batch_idx / len(train_loader), loss.data, float(correct*100) / float(BATCH_SIZE*(batch_idx+1))))"
   ]
  },
  {
   "cell_type": "code",
   "execution_count": 17,
   "metadata": {},
   "outputs": [],
   "source": [
    "def evaluate(model, loader=test_loader):\n",
    "    correct = 0 \n",
    "    for test_imgs, test_labels in loader:\n",
    "        test_imgs = Variable(test_imgs).float()\n",
    "        \n",
    "        output = model(test_imgs)\n",
    "        predicted = torch.max(output,1)[1]\n",
    "        correct += (predicted == test_labels).sum()\n",
    "    print(\"Test accuracy:{:.3f}% \".format( float(correct) / (len(loader)*BATCH_SIZE)))"
   ]
  },
  {
   "cell_type": "code",
   "execution_count": 66,
   "metadata": {},
   "outputs": [
    {
     "name": "stdout",
     "output_type": "stream",
     "text": [
      "Epoch : 0 [0/60000 (0%)]\tLoss: 11.756062\t Accuracy:18.750%\n",
      "Epoch : 0 [6400/60000 (11%)]\tLoss: 0.620706\t Accuracy:69.667%\n",
      "Epoch : 0 [12800/60000 (21%)]\tLoss: 0.742245\t Accuracy:74.018%\n",
      "Epoch : 0 [19200/60000 (32%)]\tLoss: 0.313909\t Accuracy:75.790%\n",
      "Epoch : 0 [25600/60000 (43%)]\tLoss: 0.438836\t Accuracy:76.931%\n",
      "Epoch : 0 [32000/60000 (53%)]\tLoss: 0.558625\t Accuracy:77.791%\n",
      "Epoch : 0 [38400/60000 (64%)]\tLoss: 0.357680\t Accuracy:78.505%\n",
      "Epoch : 0 [44800/60000 (75%)]\tLoss: 0.413693\t Accuracy:78.988%\n",
      "Epoch : 0 [51200/60000 (85%)]\tLoss: 0.265867\t Accuracy:79.443%\n",
      "Epoch : 0 [57600/60000 (96%)]\tLoss: 0.315978\t Accuracy:79.775%\n",
      "Epoch : 1 [0/60000 (0%)]\tLoss: 0.553459\t Accuracy:84.375%\n",
      "Epoch : 1 [6400/60000 (11%)]\tLoss: 0.423689\t Accuracy:83.349%\n",
      "Epoch : 1 [12800/60000 (21%)]\tLoss: 0.699665\t Accuracy:83.541%\n",
      "Epoch : 1 [19200/60000 (32%)]\tLoss: 0.190550\t Accuracy:83.683%\n",
      "Epoch : 1 [25600/60000 (43%)]\tLoss: 0.260512\t Accuracy:83.844%\n",
      "Epoch : 1 [32000/60000 (53%)]\tLoss: 0.529210\t Accuracy:83.891%\n",
      "Epoch : 1 [38400/60000 (64%)]\tLoss: 0.401704\t Accuracy:84.016%\n",
      "Epoch : 1 [44800/60000 (75%)]\tLoss: 0.357541\t Accuracy:84.136%\n",
      "Epoch : 1 [51200/60000 (85%)]\tLoss: 0.228240\t Accuracy:84.287%\n",
      "Epoch : 1 [57600/60000 (96%)]\tLoss: 0.130492\t Accuracy:84.311%\n",
      "Epoch : 2 [0/60000 (0%)]\tLoss: 0.336314\t Accuracy:87.500%\n",
      "Epoch : 2 [6400/60000 (11%)]\tLoss: 0.337001\t Accuracy:84.375%\n",
      "Epoch : 2 [12800/60000 (21%)]\tLoss: 0.587588\t Accuracy:84.952%\n",
      "Epoch : 2 [19200/60000 (32%)]\tLoss: 0.222381\t Accuracy:85.004%\n",
      "Epoch : 2 [25600/60000 (43%)]\tLoss: 0.248443\t Accuracy:85.210%\n",
      "Epoch : 2 [32000/60000 (53%)]\tLoss: 0.504351\t Accuracy:85.115%\n",
      "Epoch : 2 [38400/60000 (64%)]\tLoss: 0.374137\t Accuracy:85.176%\n",
      "Epoch : 2 [44800/60000 (75%)]\tLoss: 0.352997\t Accuracy:85.290%\n",
      "Epoch : 2 [51200/60000 (85%)]\tLoss: 0.238472\t Accuracy:85.312%\n",
      "Epoch : 2 [57600/60000 (96%)]\tLoss: 0.319421\t Accuracy:85.274%\n",
      "Epoch : 3 [0/60000 (0%)]\tLoss: 0.349585\t Accuracy:84.375%\n",
      "Epoch : 3 [6400/60000 (11%)]\tLoss: 0.360603\t Accuracy:85.665%\n",
      "Epoch : 3 [12800/60000 (21%)]\tLoss: 0.511461\t Accuracy:85.926%\n",
      "Epoch : 3 [19200/60000 (32%)]\tLoss: 0.277780\t Accuracy:86.190%\n",
      "Epoch : 3 [25600/60000 (43%)]\tLoss: 0.302807\t Accuracy:86.255%\n",
      "Epoch : 3 [32000/60000 (53%)]\tLoss: 0.508188\t Accuracy:86.223%\n",
      "Epoch : 3 [38400/60000 (64%)]\tLoss: 0.361931\t Accuracy:86.111%\n",
      "Epoch : 3 [44800/60000 (75%)]\tLoss: 0.324976\t Accuracy:86.142%\n",
      "Epoch : 3 [51200/60000 (85%)]\tLoss: 0.166972\t Accuracy:86.118%\n",
      "Epoch : 3 [57600/60000 (96%)]\tLoss: 0.157313\t Accuracy:86.140%\n",
      "Epoch : 4 [0/60000 (0%)]\tLoss: 0.326028\t Accuracy:87.500%\n",
      "Epoch : 4 [6400/60000 (11%)]\tLoss: 0.321188\t Accuracy:86.101%\n",
      "Epoch : 4 [12800/60000 (21%)]\tLoss: 0.532222\t Accuracy:86.136%\n",
      "Epoch : 4 [19200/60000 (32%)]\tLoss: 0.227647\t Accuracy:86.210%\n",
      "Epoch : 4 [25600/60000 (43%)]\tLoss: 0.272304\t Accuracy:86.415%\n",
      "Epoch : 4 [32000/60000 (53%)]\tLoss: 0.464648\t Accuracy:86.392%\n",
      "Epoch : 4 [38400/60000 (64%)]\tLoss: 0.397416\t Accuracy:86.407%\n",
      "Epoch : 4 [44800/60000 (75%)]\tLoss: 0.283638\t Accuracy:86.498%\n",
      "Epoch : 4 [51200/60000 (85%)]\tLoss: 0.144101\t Accuracy:86.555%\n",
      "Epoch : 4 [57600/60000 (96%)]\tLoss: 0.164851\t Accuracy:86.580%\n"
     ]
    }
   ],
   "source": [
    "torch.manual_seed(SEED)\n",
    "fit(mlp, train_loader)"
   ]
  },
  {
   "cell_type": "code",
   "execution_count": 67,
   "metadata": {},
   "outputs": [
    {
     "name": "stdout",
     "output_type": "stream",
     "text": [
      "Test accuracy:0.858% \n"
     ]
    }
   ],
   "source": [
    "evaluate(mlp)"
   ]
  },
  {
   "cell_type": "markdown",
   "metadata": {},
   "source": [
    "Уменьшать количество самих весов в этот раз мы не будем, поэтому в качестве размера нейронной сети будет использовать буквально количество памяти, которая она занимает."
   ]
  },
  {
   "cell_type": "code",
   "execution_count": 82,
   "metadata": {},
   "outputs": [],
   "source": [
    "def calc_size(model):\n",
    "    torch.save(model.state_dict(), \"/tmp/model.p\")\n",
    "    size=os.path.getsize(\"/tmp/model.p\")\n",
    "    os.remove('/tmp/model.p')\n",
    "    return \"{:.3f} KB\".format(size / 1024)"
   ]
  },
  {
   "cell_type": "code",
   "execution_count": 69,
   "metadata": {},
   "outputs": [
    {
     "data": {
      "text/plain": [
       "'870.694 KB'"
      ]
     },
     "execution_count": 69,
     "metadata": {},
     "output_type": "execute_result"
    }
   ],
   "source": [
    "calc_size(mlp)"
   ]
  },
  {
   "cell_type": "markdown",
   "metadata": {},
   "source": [
    "Полученная сеть весит почти мегабайт.\n",
    "\n",
    "Посмотрим на веса, которые используются внутри нашей сети"
   ]
  },
  {
   "cell_type": "code",
   "execution_count": 70,
   "metadata": {},
   "outputs": [
    {
     "data": {
      "text/plain": [
       "Parameter containing:\n",
       "tensor([[ 0.0417,  0.0319,  0.1002,  ...,  0.1496,  0.2197,  0.0276],\n",
       "        [ 0.0319,  0.0167,  0.0228,  ...,  0.0036, -0.0232, -0.0021],\n",
       "        [-0.0136,  0.0015, -0.0036,  ...,  0.0028, -0.0361, -0.0615],\n",
       "        ...,\n",
       "        [ 0.0304, -0.0115, -0.0250,  ..., -0.0063, -0.0719, -0.0729],\n",
       "        [ 0.0178, -0.0027, -0.0122,  ..., -0.0703,  0.0111, -0.0264],\n",
       "        [-0.0081,  0.0118,  0.0321,  ..., -0.0154,  0.0246,  0.0243]],\n",
       "       requires_grad=True)"
      ]
     },
     "execution_count": 70,
     "metadata": {},
     "output_type": "execute_result"
    }
   ],
   "source": [
    "mlp.linear1.weight"
   ]
  },
  {
   "cell_type": "code",
   "execution_count": 71,
   "metadata": {},
   "outputs": [
    {
     "data": {
      "text/plain": [
       "MLP(\n",
       "  (linear1): Linear(in_features=784, out_features=250, bias=True)\n",
       "  (linear2): Linear(in_features=250, out_features=100, bias=True)\n",
       "  (linear3): Linear(in_features=100, out_features=10, bias=True)\n",
       ")"
      ]
     },
     "execution_count": 71,
     "metadata": {},
     "output_type": "execute_result"
    }
   ],
   "source": [
    "mlp"
   ]
  },
  {
   "cell_type": "markdown",
   "metadata": {},
   "source": [
    "Посчитаем дополнительно, за сколько в среднем она делает предсказания. Для замеров по времени будем использовать один поток, чтобы все сети были в одинаковых условиях."
   ]
  },
  {
   "cell_type": "code",
   "execution_count": 72,
   "metadata": {},
   "outputs": [],
   "source": [
    "from contextlib import contextmanager\n",
    "\n",
    "@contextmanager\n",
    "def single_thread():  \n",
    "    num = torch.get_num_threads()\n",
    "    torch.set_num_threads(1)\n",
    "    yield\n",
    "    torch.set_num_threads(num)"
   ]
  },
  {
   "cell_type": "code",
   "execution_count": 95,
   "metadata": {},
   "outputs": [
    {
     "name": "stdout",
     "output_type": "stream",
     "text": [
      "Test accuracy:0.867% \n",
      "Test accuracy:0.867% \n",
      "Test accuracy:0.867% \n",
      "Test accuracy:0.867% \n",
      "Test accuracy:0.867% \n",
      "Test accuracy:0.867% \n",
      "Test accuracy:0.867% \n",
      "Test accuracy:0.867% \n",
      "Test accuracy:0.867% \n",
      "Test accuracy:0.867% \n",
      "Test accuracy:0.867% \n",
      "2.12 s ± 240 ms per loop (mean ± std. dev. of 10 runs, 1 loop each)\n"
     ]
    }
   ],
   "source": [
    "%%timeit -r10\n",
    "\n",
    "with single_thread():\n",
    "    evaluate(mlp, train_loader)"
   ]
  },
  {
   "cell_type": "markdown",
   "metadata": {},
   "source": [
    "# Динамическая квантизация\n",
    "\n",
    "Динамическая квантизация - пожалуй самый простой способ квантизации. \n",
    "\n",
    "Все веса из float мы сразу переводим в int, а вот активации мы пересчитываем на лету во время работы сети. Для каждого примера в нейроне мы аккумулируем взвешенную сумму по-честному во float, подбираем для конкретного получившегося числа лучшие параметры квантизации, квантуем и отправляем дальше по сети.\n",
    "\n",
    "Таким образом, из-за этих автоматических квантований во время работы сети сеть все еще может работать медленно.\n",
    "\n",
    "Попробуем применить динамическую квантизацию к нашей модели."
   ]
  },
  {
   "cell_type": "code",
   "execution_count": 74,
   "metadata": {},
   "outputs": [],
   "source": [
    "qd_mlp = torch.quantization.quantize_dynamic(\n",
    "    mlp, {nn.Linear}, dtype=torch.qint8\n",
    ")"
   ]
  },
  {
   "cell_type": "code",
   "execution_count": 75,
   "metadata": {},
   "outputs": [
    {
     "data": {
      "text/plain": [
       "MLP(\n",
       "  (linear1): DynamicQuantizedLinear(in_features=784, out_features=250, dtype=torch.qint8, qscheme=torch.per_tensor_affine)\n",
       "  (linear2): DynamicQuantizedLinear(in_features=250, out_features=100, dtype=torch.qint8, qscheme=torch.per_tensor_affine)\n",
       "  (linear3): DynamicQuantizedLinear(in_features=100, out_features=10, dtype=torch.qint8, qscheme=torch.per_tensor_affine)\n",
       ")"
      ]
     },
     "execution_count": 75,
     "metadata": {},
     "output_type": "execute_result"
    }
   ],
   "source": [
    "qd_mlp"
   ]
  },
  {
   "cell_type": "code",
   "execution_count": 76,
   "metadata": {},
   "outputs": [
    {
     "data": {
      "text/plain": [
       "'222.215 KB'"
      ]
     },
     "execution_count": 76,
     "metadata": {},
     "output_type": "execute_result"
    }
   ],
   "source": [
    "calc_size(qd_mlp)"
   ]
  },
  {
   "cell_type": "markdown",
   "metadata": {},
   "source": [
    "Видно, что получилось уменьшить размер сети почти в 4 раза. Посмотрим, что случилось с качеством полученной модели."
   ]
  },
  {
   "cell_type": "code",
   "execution_count": 77,
   "metadata": {},
   "outputs": [
    {
     "name": "stdout",
     "output_type": "stream",
     "text": [
      "Test accuracy:0.864% \n"
     ]
    }
   ],
   "source": [
    "evaluate(qd_mlp)"
   ]
  },
  {
   "cell_type": "markdown",
   "metadata": {},
   "source": [
    "Качество осталось в точности таким же.\n",
    "\n",
    "Заглянем в то, какие теперь веса используются внутри."
   ]
  },
  {
   "cell_type": "code",
   "execution_count": 78,
   "metadata": {},
   "outputs": [
    {
     "data": {
      "text/plain": [
       "tensor([[  9,   7,  21,  ...,  32,  47,   6],\n",
       "        [  7,   4,   5,  ...,   1,  -5,   0],\n",
       "        [ -3,   0,  -1,  ...,   1,  -8, -13],\n",
       "        ...,\n",
       "        [  6,  -2,  -5,  ...,  -1, -15, -15],\n",
       "        [  4,  -1,  -3,  ..., -15,   2,  -6],\n",
       "        [ -2,   3,   7,  ...,  -3,   5,   5]], dtype=torch.int8)"
      ]
     },
     "execution_count": 78,
     "metadata": {},
     "output_type": "execute_result"
    }
   ],
   "source": [
    "qd_mlp.linear1.weight().int_repr()"
   ]
  },
  {
   "cell_type": "code",
   "execution_count": 79,
   "metadata": {},
   "outputs": [
    {
     "data": {
      "text/plain": [
       "Parameter containing:\n",
       "tensor([[ 0.0417,  0.0319,  0.1002,  ...,  0.1496,  0.2197,  0.0276],\n",
       "        [ 0.0319,  0.0167,  0.0228,  ...,  0.0036, -0.0232, -0.0021],\n",
       "        [-0.0136,  0.0015, -0.0036,  ...,  0.0028, -0.0361, -0.0615],\n",
       "        ...,\n",
       "        [ 0.0304, -0.0115, -0.0250,  ..., -0.0063, -0.0719, -0.0729],\n",
       "        [ 0.0178, -0.0027, -0.0122,  ..., -0.0703,  0.0111, -0.0264],\n",
       "        [-0.0081,  0.0118,  0.0321,  ..., -0.0154,  0.0246,  0.0243]],\n",
       "       requires_grad=True)"
      ]
     },
     "execution_count": 79,
     "metadata": {},
     "output_type": "execute_result"
    }
   ],
   "source": [
    "mlp.linear1.weight"
   ]
  },
  {
   "cell_type": "markdown",
   "metadata": {},
   "source": [
    "Помотрим, насколько быстро получается делать предсказания квантизированной моделью."
   ]
  },
  {
   "cell_type": "code",
   "execution_count": 96,
   "metadata": {},
   "outputs": [
    {
     "name": "stdout",
     "output_type": "stream",
     "text": [
      "Test accuracy:0.871% \n",
      "Test accuracy:0.871% \n",
      "Test accuracy:0.871% \n",
      "Test accuracy:0.871% \n",
      "Test accuracy:0.871% \n",
      "Test accuracy:0.871% \n",
      "Test accuracy:0.871% \n",
      "Test accuracy:0.871% \n",
      "Test accuracy:0.871% \n",
      "Test accuracy:0.871% \n",
      "Test accuracy:0.871% \n",
      "1.27 s ± 14.5 ms per loop (mean ± std. dev. of 10 runs, 1 loop each)\n"
     ]
    }
   ],
   "source": [
    "%%timeit -r10\n",
    "\n",
    "with single_thread():\n",
    "    evaluate(qd_mlp, train_loader)"
   ]
  },
  {
   "cell_type": "markdown",
   "metadata": {},
   "source": [
    "На моем компьютере получился прирост примерно в 10-15%. Таким образом динамическая квантизация - достаточно простой прием, который не дает большого проигрышал по качеству, при этом уменьшает размер сети и ускоряет предсказания.\n",
    "\n",
    "Однако это не единственный подход для квантования. \n",
    "\n",
    "# Статическая квантизация\n",
    "\n",
    "Статическая квантизация позволяет сразу все операции перевести в int, без необходимости дополнительно что-то расчитывать в процессе предсказания.\n",
    "\n",
    "Для того, чтобы при этом качество не сильно пострадало, параметры квантования для разных слоем настраиваются по обучающей выборке.\n",
    "\n",
    "Таким образом для того, чтобы статически квантизировать сеть, необходимо вначале подключить к ней модуль подсчета параметров (Observer), который будет для каждого слоя расчитывать необходимые параметры квантования по обучающей выборке. После этого один раз необходимо всю выборку прогнать через сеть, чтобы эти модули смогли подсчитать нужные параметры. После чего можно фиксировать полученные параметры и итоговую квантизированную сеть."
   ]
  },
  {
   "cell_type": "code",
   "execution_count": 81,
   "metadata": {},
   "outputs": [],
   "source": [
    "class QuantizedMLP(nn.Module):\n",
    "    def __init__(self):\n",
    "        super(QuantizedMLP, self).__init__()\n",
    "        self.linear1 = nn.Linear(784,250)\n",
    "        self.linear2 = nn.Linear(250,100)\n",
    "        self.linear3 = nn.Linear(100,10)\n",
    "        # Так как теперь квантизация не происходит динамически, необходимо дополнительно \n",
    "        # руками квантовать входные данные и деквантовать ответ\n",
    "        self.quant = QuantStub()\n",
    "        self.dequant = DeQuantStub()\n",
    "    \n",
    "    def forward(self,X):\n",
    "        # Квантуем входные данные\n",
    "        X = self.quant(X)\n",
    "        X = F.relu(self.linear1(X))\n",
    "        X = F.relu(self.linear2(X))\n",
    "        X = self.linear3(X)\n",
    "        # Деквантуем ответ\n",
    "        X = self.dequant(X)\n",
    "        return X"
   ]
  },
  {
   "cell_type": "code",
   "execution_count": null,
   "metadata": {},
   "outputs": [],
   "source": []
  },
  {
   "cell_type": "code",
   "execution_count": 82,
   "metadata": {},
   "outputs": [],
   "source": [
    "ptq_mlp = QuantizedMLP()"
   ]
  },
  {
   "cell_type": "code",
   "execution_count": 83,
   "metadata": {},
   "outputs": [
    {
     "name": "stdout",
     "output_type": "stream",
     "text": [
      "Epoch : 0 [0/60000 (0%)]\tLoss: 11.684027\t Accuracy:18.750%\n",
      "Epoch : 0 [6400/60000 (11%)]\tLoss: 0.787137\t Accuracy:69.512%\n",
      "Epoch : 0 [12800/60000 (21%)]\tLoss: 0.993065\t Accuracy:73.862%\n",
      "Epoch : 0 [19200/60000 (32%)]\tLoss: 0.325165\t Accuracy:75.577%\n",
      "Epoch : 0 [25600/60000 (43%)]\tLoss: 0.345738\t Accuracy:76.802%\n",
      "Epoch : 0 [32000/60000 (53%)]\tLoss: 0.604350\t Accuracy:77.563%\n",
      "Epoch : 0 [38400/60000 (64%)]\tLoss: 0.563863\t Accuracy:78.294%\n",
      "Epoch : 0 [44800/60000 (75%)]\tLoss: 0.423202\t Accuracy:78.886%\n",
      "Epoch : 0 [51200/60000 (85%)]\tLoss: 0.235911\t Accuracy:79.384%\n",
      "Epoch : 0 [57600/60000 (96%)]\tLoss: 0.193039\t Accuracy:79.607%\n",
      "Epoch : 1 [0/60000 (0%)]\tLoss: 0.515112\t Accuracy:78.125%\n",
      "Epoch : 1 [6400/60000 (11%)]\tLoss: 0.454121\t Accuracy:83.862%\n",
      "Epoch : 1 [12800/60000 (21%)]\tLoss: 0.842713\t Accuracy:83.713%\n",
      "Epoch : 1 [19200/60000 (32%)]\tLoss: 0.260269\t Accuracy:83.668%\n",
      "Epoch : 1 [25600/60000 (43%)]\tLoss: 0.279924\t Accuracy:83.825%\n",
      "Epoch : 1 [32000/60000 (53%)]\tLoss: 0.636968\t Accuracy:83.791%\n",
      "Epoch : 1 [38400/60000 (64%)]\tLoss: 0.401687\t Accuracy:83.868%\n",
      "Epoch : 1 [44800/60000 (75%)]\tLoss: 0.290916\t Accuracy:83.869%\n",
      "Epoch : 1 [51200/60000 (85%)]\tLoss: 0.217648\t Accuracy:83.967%\n",
      "Epoch : 1 [57600/60000 (96%)]\tLoss: 0.122710\t Accuracy:84.047%\n",
      "Epoch : 2 [0/60000 (0%)]\tLoss: 0.371408\t Accuracy:84.375%\n",
      "Epoch : 2 [6400/60000 (11%)]\tLoss: 0.337995\t Accuracy:84.391%\n",
      "Epoch : 2 [12800/60000 (21%)]\tLoss: 0.921827\t Accuracy:84.554%\n",
      "Epoch : 2 [19200/60000 (32%)]\tLoss: 0.242288\t Accuracy:84.952%\n",
      "Epoch : 2 [25600/60000 (43%)]\tLoss: 0.252544\t Accuracy:84.988%\n",
      "Epoch : 2 [32000/60000 (53%)]\tLoss: 0.527810\t Accuracy:84.946%\n",
      "Epoch : 2 [38400/60000 (64%)]\tLoss: 0.364790\t Accuracy:84.924%\n",
      "Epoch : 2 [44800/60000 (75%)]\tLoss: 0.249926\t Accuracy:85.049%\n",
      "Epoch : 2 [51200/60000 (85%)]\tLoss: 0.201544\t Accuracy:85.070%\n",
      "Epoch : 2 [57600/60000 (96%)]\tLoss: 0.157347\t Accuracy:85.111%\n",
      "Epoch : 3 [0/60000 (0%)]\tLoss: 0.345522\t Accuracy:87.500%\n",
      "Epoch : 3 [6400/60000 (11%)]\tLoss: 0.370528\t Accuracy:85.386%\n",
      "Epoch : 3 [12800/60000 (21%)]\tLoss: 0.718166\t Accuracy:85.614%\n",
      "Epoch : 3 [19200/60000 (32%)]\tLoss: 0.191541\t Accuracy:85.732%\n",
      "Epoch : 3 [25600/60000 (43%)]\tLoss: 0.267915\t Accuracy:85.861%\n",
      "Epoch : 3 [32000/60000 (53%)]\tLoss: 0.502121\t Accuracy:85.839%\n",
      "Epoch : 3 [38400/60000 (64%)]\tLoss: 0.373825\t Accuracy:85.822%\n",
      "Epoch : 3 [44800/60000 (75%)]\tLoss: 0.200227\t Accuracy:85.852%\n",
      "Epoch : 3 [51200/60000 (85%)]\tLoss: 0.142100\t Accuracy:85.983%\n",
      "Epoch : 3 [57600/60000 (96%)]\tLoss: 0.135967\t Accuracy:85.959%\n",
      "Epoch : 4 [0/60000 (0%)]\tLoss: 0.332464\t Accuracy:84.375%\n",
      "Epoch : 4 [6400/60000 (11%)]\tLoss: 0.378113\t Accuracy:87.018%\n",
      "Epoch : 4 [12800/60000 (21%)]\tLoss: 0.603282\t Accuracy:86.448%\n",
      "Epoch : 4 [19200/60000 (32%)]\tLoss: 0.263826\t Accuracy:86.450%\n",
      "Epoch : 4 [25600/60000 (43%)]\tLoss: 0.292952\t Accuracy:86.490%\n",
      "Epoch : 4 [32000/60000 (53%)]\tLoss: 0.419559\t Accuracy:86.445%\n",
      "Epoch : 4 [38400/60000 (64%)]\tLoss: 0.326678\t Accuracy:86.379%\n",
      "Epoch : 4 [44800/60000 (75%)]\tLoss: 0.210361\t Accuracy:86.516%\n",
      "Epoch : 4 [51200/60000 (85%)]\tLoss: 0.142117\t Accuracy:86.546%\n",
      "Epoch : 4 [57600/60000 (96%)]\tLoss: 0.127990\t Accuracy:86.544%\n"
     ]
    }
   ],
   "source": [
    "torch.manual_seed(SEED)\n",
    "fit(ptq_mlp, train_loader)"
   ]
  },
  {
   "cell_type": "code",
   "execution_count": 84,
   "metadata": {},
   "outputs": [
    {
     "name": "stdout",
     "output_type": "stream",
     "text": [
      "Test accuracy:0.854% \n"
     ]
    }
   ],
   "source": [
    "evaluate(ptq_mlp)"
   ]
  },
  {
   "cell_type": "code",
   "execution_count": null,
   "metadata": {},
   "outputs": [],
   "source": []
  },
  {
   "cell_type": "code",
   "execution_count": 85,
   "metadata": {},
   "outputs": [],
   "source": [
    "# Для моделей мы также можем указать конфиг квантования,\n",
    "# где в частности может указать библиотеку для работы с квантованными значениями\n",
    "\n",
    "ptq_mlp.qconfig = torch.quantization.get_default_qconfig('fbgemm')"
   ]
  },
  {
   "cell_type": "code",
   "execution_count": 86,
   "metadata": {},
   "outputs": [
    {
     "data": {
      "text/plain": [
       "PostTrainedQuantizedMLP(\n",
       "  (linear1): Linear(\n",
       "    in_features=784, out_features=250, bias=True\n",
       "    (activation_post_process): HistogramObserver()\n",
       "  )\n",
       "  (linear2): Linear(\n",
       "    in_features=250, out_features=100, bias=True\n",
       "    (activation_post_process): HistogramObserver()\n",
       "  )\n",
       "  (linear3): Linear(\n",
       "    in_features=100, out_features=10, bias=True\n",
       "    (activation_post_process): HistogramObserver()\n",
       "  )\n",
       "  (quant): QuantStub(\n",
       "    (activation_post_process): HistogramObserver()\n",
       "  )\n",
       "  (dequant): DeQuantStub()\n",
       ")"
      ]
     },
     "execution_count": 86,
     "metadata": {},
     "output_type": "execute_result"
    }
   ],
   "source": [
    "# Устанавливаем модули подсчета параметров квантования. По умолчанию исползуется HistogramObserver, то есть\n",
    "# модуль, который рассчтывает параметры на основе гистрограммы распределения значнеий для конкретного слоя\n",
    "torch.quantization.prepare(ptq_mlp, inplace=True)"
   ]
  },
  {
   "cell_type": "code",
   "execution_count": 87,
   "metadata": {},
   "outputs": [
    {
     "name": "stdout",
     "output_type": "stream",
     "text": [
      "Test accuracy:0.863% \n"
     ]
    }
   ],
   "source": [
    "# Прогоняем всю обучающую выборку через сеть. Для этого просто считаем качество на данных обучающей выборки\n",
    "# Само значение нам не интересно, нам важно, чтобы посчитались параметры\n",
    "evaluate(ptq_mlp, train_loader)"
   ]
  },
  {
   "cell_type": "code",
   "execution_count": 88,
   "metadata": {},
   "outputs": [
    {
     "data": {
      "text/plain": [
       "PostTrainedQuantizedMLP(\n",
       "  (linear1): QuantizedLinear(in_features=784, out_features=250, scale=48.7363166809082, zero_point=91, qscheme=torch.per_channel_affine)\n",
       "  (linear2): QuantizedLinear(in_features=250, out_features=100, scale=10.155464172363281, zero_point=80, qscheme=torch.per_channel_affine)\n",
       "  (linear3): QuantizedLinear(in_features=100, out_features=10, scale=1.5792425870895386, zero_point=72, qscheme=torch.per_channel_affine)\n",
       "  (quant): Quantize(scale=tensor([2.0069]), zero_point=tensor([0]), dtype=torch.quint8)\n",
       "  (dequant): DeQuantize()\n",
       ")"
      ]
     },
     "execution_count": 88,
     "metadata": {},
     "output_type": "execute_result"
    }
   ],
   "source": [
    "# Фиксируем полученные веса и параметры квантизации\n",
    "torch.quantization.convert(ptq_mlp, inplace=True)"
   ]
  },
  {
   "cell_type": "markdown",
   "metadata": {},
   "source": [
    "Можно видеть, какие именно параметры (а именно scale и zero_point) подсчитались для каждого слоя."
   ]
  },
  {
   "cell_type": "code",
   "execution_count": 89,
   "metadata": {},
   "outputs": [
    {
     "data": {
      "text/plain": [
       "'229.748 KB'"
      ]
     },
     "execution_count": 89,
     "metadata": {},
     "output_type": "execute_result"
    }
   ],
   "source": [
    "calc_size(ptq_mlp)"
   ]
  },
  {
   "cell_type": "code",
   "execution_count": 90,
   "metadata": {},
   "outputs": [
    {
     "data": {
      "text/plain": [
       "tensor([[-10, -40, -16,  ...,  70,  13,  54],\n",
       "        [-15, -49, -36,  ...,   5,  -8, -19],\n",
       "        [-42, -47,  61,  ...,  23,  68,  57],\n",
       "        ...,\n",
       "        [ 35,  -8, -10,  ..., -51,  25, -72],\n",
       "        [-16,  31,  43,  ...,  41, -75, -47],\n",
       "        [-84,  66,  68,  ..., -35,  67,  86]], dtype=torch.int8)"
      ]
     },
     "execution_count": 90,
     "metadata": {},
     "output_type": "execute_result"
    }
   ],
   "source": [
    "ptq_mlp.linear1.weight().int_repr()"
   ]
  },
  {
   "cell_type": "code",
   "execution_count": 91,
   "metadata": {},
   "outputs": [
    {
     "name": "stdout",
     "output_type": "stream",
     "text": [
      "Test accuracy:0.854% \n"
     ]
    }
   ],
   "source": [
    "evaluate(ptq_mlp)"
   ]
  },
  {
   "cell_type": "markdown",
   "metadata": {},
   "source": [
    "Видно, что модель все еще хорошо сжалась, при этом качество немного упало. \n",
    "\n",
    "Посмотрим, что по скорости выполнения."
   ]
  },
  {
   "cell_type": "code",
   "execution_count": 97,
   "metadata": {},
   "outputs": [
    {
     "name": "stdout",
     "output_type": "stream",
     "text": [
      "Test accuracy:0.863% \n",
      "Test accuracy:0.863% \n",
      "Test accuracy:0.863% \n",
      "Test accuracy:0.863% \n",
      "Test accuracy:0.863% \n",
      "Test accuracy:0.863% \n",
      "Test accuracy:0.863% \n",
      "Test accuracy:0.863% \n",
      "Test accuracy:0.863% \n",
      "Test accuracy:0.863% \n",
      "Test accuracy:0.863% \n",
      "1.33 s ± 22.2 ms per loop (mean ± std. dev. of 10 runs, 1 loop each)\n"
     ]
    }
   ],
   "source": [
    "%%timeit -r10\n",
    "\n",
    "with single_thread():\n",
    "    evaluate(ptq_mlp, train_loader)"
   ]
  },
  {
   "cell_type": "markdown",
   "metadata": {},
   "source": [
    "Видно, что с текущей моделью статическая квантизация работает не так хорошо - качество немного просело, а значительного прироста по времени не наблюдается.\n",
    "\n",
    "Вместо простых схем квантизации, когда уже обученная модель квантуется, есть и более продвинутые схемы.\n",
    "\n",
    "# Квантизация в процессе обучения\n",
    "\n",
    "Этот метод заключается в том, что квантование происходит на каждом шаге градиентного спуска. Теоретически это должно делать более аккуратными относительно квантованных параметров и тем самым получать качество лучше."
   ]
  },
  {
   "cell_type": "code",
   "execution_count": 98,
   "metadata": {},
   "outputs": [],
   "source": [
    "qa_mlp = QuantizedMLP()"
   ]
  },
  {
   "cell_type": "code",
   "execution_count": 99,
   "metadata": {},
   "outputs": [],
   "source": [
    "def quantized_fit(model, train_loader, epoch_number=5):\n",
    "    optimizer = torch.optim.Adam(model.parameters())\n",
    "    \n",
    "    # Ничем особенным процесс обучения не отличается\n",
    "    # Добавляем конфигурацию, после чего подготавливаем модель для обучения с квантованием\n",
    "    # Модель внутри себя автоматически будет обновлять веса с учетом квантования\n",
    "    model.qconfig = torch.quantization.get_default_qat_qconfig('fbgemm')\n",
    "    torch.quantization.prepare_qat(model, inplace=True)\n",
    "    \n",
    "    error = nn.CrossEntropyLoss()\n",
    "    model.train()\n",
    "    \n",
    "    for epoch in range(epoch_number):\n",
    "        correct = 0\n",
    "        \n",
    "        for batch_idx, (X_batch, y_batch) in enumerate(train_loader):\n",
    "            var_X_batch = Variable(X_batch).float()\n",
    "            var_y_batch = Variable(y_batch)\n",
    "            \n",
    "            optimizer.zero_grad()\n",
    "            output = model(var_X_batch)\n",
    "            loss = error(output, var_y_batch)\n",
    "            loss.backward()\n",
    "            optimizer.step()\n",
    "\n",
    "            predicted = torch.max(output.data, 1)[1] \n",
    "            correct += (predicted == var_y_batch).sum()\n",
    "            if batch_idx % 200 == 0:\n",
    "                print('Epoch : {} [{}/{} ({:.0f}%)]\\tLoss: {:.6f}\\t Accuracy:{:.3f}%'.format(\n",
    "                    epoch, batch_idx*len(X_batch), len(train_loader.dataset), 100.*batch_idx / len(train_loader), loss.data, float(correct*100) / float(BATCH_SIZE*(batch_idx+1))))"
   ]
  },
  {
   "cell_type": "code",
   "execution_count": 100,
   "metadata": {},
   "outputs": [
    {
     "name": "stdout",
     "output_type": "stream",
     "text": [
      "Epoch : 0 [0/60000 (0%)]\tLoss: 19.953337\t Accuracy:3.125%\n",
      "Epoch : 0 [6400/60000 (11%)]\tLoss: 1.015618\t Accuracy:68.470%\n",
      "Epoch : 0 [12800/60000 (21%)]\tLoss: 1.126122\t Accuracy:72.919%\n",
      "Epoch : 0 [19200/60000 (32%)]\tLoss: 0.382234\t Accuracy:74.698%\n",
      "Epoch : 0 [25600/60000 (43%)]\tLoss: 0.263492\t Accuracy:75.964%\n",
      "Epoch : 0 [32000/60000 (53%)]\tLoss: 0.520338\t Accuracy:76.795%\n",
      "Epoch : 0 [38400/60000 (64%)]\tLoss: 0.406278\t Accuracy:77.542%\n",
      "Epoch : 0 [44800/60000 (75%)]\tLoss: 0.436573\t Accuracy:78.083%\n",
      "Epoch : 0 [51200/60000 (85%)]\tLoss: 0.301557\t Accuracy:78.609%\n",
      "Epoch : 0 [57600/60000 (96%)]\tLoss: 0.401963\t Accuracy:79.013%\n",
      "Epoch : 1 [0/60000 (0%)]\tLoss: 0.458184\t Accuracy:87.500%\n",
      "Epoch : 1 [6400/60000 (11%)]\tLoss: 0.491694\t Accuracy:83.411%\n",
      "Epoch : 1 [12800/60000 (21%)]\tLoss: 0.751592\t Accuracy:83.619%\n",
      "Epoch : 1 [19200/60000 (32%)]\tLoss: 0.368394\t Accuracy:83.663%\n",
      "Epoch : 1 [25600/60000 (43%)]\tLoss: 0.291238\t Accuracy:83.770%\n",
      "Epoch : 1 [32000/60000 (53%)]\tLoss: 0.506257\t Accuracy:83.694%\n",
      "Epoch : 1 [38400/60000 (64%)]\tLoss: 0.487764\t Accuracy:83.800%\n",
      "Epoch : 1 [44800/60000 (75%)]\tLoss: 0.255858\t Accuracy:83.808%\n",
      "Epoch : 1 [51200/60000 (85%)]\tLoss: 0.246901\t Accuracy:83.916%\n",
      "Epoch : 1 [57600/60000 (96%)]\tLoss: 0.169946\t Accuracy:83.905%\n",
      "Epoch : 2 [0/60000 (0%)]\tLoss: 0.338304\t Accuracy:87.500%\n",
      "Epoch : 2 [6400/60000 (11%)]\tLoss: 0.423759\t Accuracy:84.670%\n",
      "Epoch : 2 [12800/60000 (21%)]\tLoss: 0.726992\t Accuracy:84.593%\n",
      "Epoch : 2 [19200/60000 (32%)]\tLoss: 0.236238\t Accuracy:84.593%\n",
      "Epoch : 2 [25600/60000 (43%)]\tLoss: 0.293010\t Accuracy:84.648%\n",
      "Epoch : 2 [32000/60000 (53%)]\tLoss: 0.552295\t Accuracy:84.606%\n",
      "Epoch : 2 [38400/60000 (64%)]\tLoss: 0.429808\t Accuracy:84.607%\n",
      "Epoch : 2 [44800/60000 (75%)]\tLoss: 0.463073\t Accuracy:84.741%\n",
      "Epoch : 2 [51200/60000 (85%)]\tLoss: 0.199725\t Accuracy:84.875%\n",
      "Epoch : 2 [57600/60000 (96%)]\tLoss: 0.099700\t Accuracy:84.823%\n",
      "Epoch : 3 [0/60000 (0%)]\tLoss: 0.392204\t Accuracy:84.375%\n",
      "Epoch : 3 [6400/60000 (11%)]\tLoss: 0.415213\t Accuracy:85.230%\n",
      "Epoch : 3 [12800/60000 (21%)]\tLoss: 0.687019\t Accuracy:85.240%\n",
      "Epoch : 3 [19200/60000 (32%)]\tLoss: 0.301354\t Accuracy:85.353%\n",
      "Epoch : 3 [25600/60000 (43%)]\tLoss: 0.321496\t Accuracy:85.385%\n",
      "Epoch : 3 [32000/60000 (53%)]\tLoss: 0.544561\t Accuracy:85.209%\n",
      "Epoch : 3 [38400/60000 (64%)]\tLoss: 0.409837\t Accuracy:85.327%\n",
      "Epoch : 3 [44800/60000 (75%)]\tLoss: 0.290352\t Accuracy:85.397%\n",
      "Epoch : 3 [51200/60000 (85%)]\tLoss: 0.204784\t Accuracy:85.450%\n",
      "Epoch : 3 [57600/60000 (96%)]\tLoss: 0.198320\t Accuracy:85.449%\n",
      "Epoch : 4 [0/60000 (0%)]\tLoss: 0.393940\t Accuracy:87.500%\n",
      "Epoch : 4 [6400/60000 (11%)]\tLoss: 0.427149\t Accuracy:85.557%\n",
      "Epoch : 4 [12800/60000 (21%)]\tLoss: 0.591541\t Accuracy:85.575%\n",
      "Epoch : 4 [19200/60000 (32%)]\tLoss: 0.237643\t Accuracy:85.566%\n",
      "Epoch : 4 [25600/60000 (43%)]\tLoss: 0.280864\t Accuracy:85.803%\n",
      "Epoch : 4 [32000/60000 (53%)]\tLoss: 0.463835\t Accuracy:85.761%\n",
      "Epoch : 4 [38400/60000 (64%)]\tLoss: 0.426036\t Accuracy:85.764%\n",
      "Epoch : 4 [44800/60000 (75%)]\tLoss: 0.251716\t Accuracy:85.834%\n",
      "Epoch : 4 [51200/60000 (85%)]\tLoss: 0.176312\t Accuracy:85.872%\n",
      "Epoch : 4 [57600/60000 (96%)]\tLoss: 0.158091\t Accuracy:85.801%\n"
     ]
    }
   ],
   "source": [
    "torch.manual_seed(SEED)\n",
    "quantized_fit(qa_mlp, train_loader)"
   ]
  },
  {
   "cell_type": "markdown",
   "metadata": {},
   "source": [
    "Можно заметить, что обучение идет немного дольше чем обычно"
   ]
  },
  {
   "cell_type": "code",
   "execution_count": 106,
   "metadata": {},
   "outputs": [
    {
     "data": {
      "text/plain": [
       "PostTrainedQuantizedMLP(\n",
       "  (linear1): QuantizedLinear(in_features=784, out_features=250, scale=35.50273513793945, zero_point=88, qscheme=torch.per_channel_affine)\n",
       "  (linear2): QuantizedLinear(in_features=250, out_features=100, scale=5.187557697296143, zero_point=71, qscheme=torch.per_channel_affine)\n",
       "  (linear3): QuantizedLinear(in_features=100, out_features=10, scale=0.8892423510551453, zero_point=74, qscheme=torch.per_channel_affine)\n",
       "  (quant): Quantize(scale=tensor([2.0079]), zero_point=tensor([0]), dtype=torch.quint8)\n",
       "  (dequant): DeQuantize()\n",
       ")"
      ]
     },
     "execution_count": 106,
     "metadata": {},
     "output_type": "execute_result"
    }
   ],
   "source": [
    "# После обучения с квантованием, фиксируем квантованные веса и параметры\n",
    "quantized_model = torch.quantization.convert(qa_mlp, inplace=False)\n",
    "quantized_model"
   ]
  },
  {
   "cell_type": "code",
   "execution_count": 107,
   "metadata": {},
   "outputs": [
    {
     "name": "stdout",
     "output_type": "stream",
     "text": [
      "Test accuracy:0.865% \n"
     ]
    }
   ],
   "source": [
    "evaluate(quantized_model)"
   ]
  },
  {
   "cell_type": "markdown",
   "metadata": {},
   "source": [
    "На моем компьютере качество получилось даже чуть выше, чем у оригинальной модели"
   ]
  },
  {
   "cell_type": "code",
   "execution_count": 109,
   "metadata": {},
   "outputs": [
    {
     "data": {
      "text/plain": [
       "'229.746 KB'"
      ]
     },
     "execution_count": 109,
     "metadata": {},
     "output_type": "execute_result"
    }
   ],
   "source": [
    "calc_size(quantized_model)"
   ]
  },
  {
   "cell_type": "code",
   "execution_count": 110,
   "metadata": {},
   "outputs": [
    {
     "data": {
      "text/plain": [
       "tensor([[  -9,   13,  -17,  ...,  -34,  -34,  -65],\n",
       "        [   9,    4,  -45,  ...,  -13,  -24,   65],\n",
       "        [ -15,  -88,   29,  ...,  -72,   52,   53],\n",
       "        ...,\n",
       "        [  74,   50,  106,  ...,   75,  101,   31],\n",
       "        [ -58,  -68,   57,  ..., -106,  -79,    8],\n",
       "        [ -15,   58,  -44,  ...,  115,   37,  -63]], dtype=torch.int8)"
      ]
     },
     "execution_count": 110,
     "metadata": {},
     "output_type": "execute_result"
    }
   ],
   "source": [
    "quantized_model.linear1.weight().int_repr()"
   ]
  },
  {
   "cell_type": "code",
   "execution_count": 112,
   "metadata": {},
   "outputs": [
    {
     "name": "stdout",
     "output_type": "stream",
     "text": [
      "Test accuracy:0.876% \n",
      "Test accuracy:0.876% \n",
      "Test accuracy:0.876% \n",
      "Test accuracy:0.876% \n",
      "Test accuracy:0.876% \n",
      "Test accuracy:0.876% \n",
      "Test accuracy:0.876% \n",
      "Test accuracy:0.876% \n",
      "Test accuracy:0.876% \n",
      "Test accuracy:0.876% \n",
      "Test accuracy:0.876% \n",
      "1.3 s ± 6.6 ms per loop (mean ± std. dev. of 10 runs, 1 loop each)\n"
     ]
    }
   ],
   "source": [
    "%%timeit -r10\n",
    "\n",
    "with single_thread():\n",
    "    evaluate(quantized_model, train_loader)"
   ]
  },
  {
   "cell_type": "markdown",
   "metadata": {},
   "source": [
    "По итогу этих экспериментов можно сказать следующее - универсального метода квантизации не существует, в каждом конкретном случае нужно искать свой подход.\n",
    "\n",
    "Однако все схемы показывают стабильное уменьшение размера модели при небольшом изменении метрики качества и ускорении расчета предсказаний."
   ]
  },
  {
   "cell_type": "code",
   "execution_count": 43,
   "metadata": {},
   "outputs": [],
   "source": []
  }
 ],
 "metadata": {
  "kernelspec": {
   "display_name": "Python 3",
   "language": "python",
   "name": "python3"
  },
  "language_info": {
   "codemirror_mode": {
    "name": "ipython",
    "version": 3
   },
   "file_extension": ".py",
   "mimetype": "text/x-python",
   "name": "python",
   "nbconvert_exporter": "python",
   "pygments_lexer": "ipython3",
   "version": "3.6.5"
  }
 },
 "nbformat": 4,
 "nbformat_minor": 4
}
