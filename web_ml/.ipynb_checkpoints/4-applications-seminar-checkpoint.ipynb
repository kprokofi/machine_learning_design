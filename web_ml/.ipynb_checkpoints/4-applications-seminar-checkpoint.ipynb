{
 "cells": [
  {
   "cell_type": "markdown",
   "metadata": {},
   "source": [
    "# Запуск моделей на устойстве пользователя\n",
    "\n",
    "В этой лабораторной посмотрим, как оптимизированные модели работают на устройствах пользователей. Это могут быть ноутбуки или даже телефоны.\n",
    "\n",
    "Для демонстрационных целей не будем в этот раз сами обучать какую-то модель, а возьмем уже предобученную сеть MobileNet, архитектура которой специально разработана, чтобы ее можно было эффективно запускать на мобильных устройствах.\n",
    "\n",
    "Самый простой способ сделать приложение на устройстве - это реализовать веб-сайт. Текущее окружение настроено таким образом, что есть открыть `/webserver/`, то откроется веб-сайт, который мы реализовали и положили в директорию `webserver/`. Проверим, что это правда работает.\n",
    "\n",
    "Напишем очень простой сайт, на котором просто будет написано Hello!"
   ]
  },
  {
   "cell_type": "code",
   "execution_count": 1,
   "metadata": {},
   "outputs": [],
   "source": [
    "! ls webserver/  # Пока здесь пусто"
   ]
  },
  {
   "cell_type": "code",
   "execution_count": 2,
   "metadata": {},
   "outputs": [
    {
     "name": "stdout",
     "output_type": "stream",
     "text": [
      "Writing webserver/index.html\n"
     ]
    }
   ],
   "source": [
    "%%writefile webserver/index.html\n",
    "\n",
    "<!DOCTYPE html>\n",
    "<html>\n",
    "    <head>\n",
    "        <meta charset=\"UTF-8\">\n",
    "        <meta http-equiv=\"X-UA-Compatible\" content=\"IE=edge\">\n",
    "        <meta name=\"viewport\" content=\"width=device-width, initial-scale=1\">\n",
    "\n",
    "        <title>Client side ML application</title>\n",
    "    </head>\n",
    "<body>\n",
    "    Hello!\n",
    "</body>\n",
    "</html>"
   ]
  },
  {
   "cell_type": "markdown",
   "metadata": {},
   "source": [
    "Попробуем открыть в браузере и посмотреть, что получилось - <a href=\"/webserver/\">Открыть в браузере</a>\n",
    "\n",
    "Если все получилось, то должна открыться белая страница с надписью Hello!"
   ]
  },
  {
   "cell_type": "markdown",
   "metadata": {},
   "source": [
    "Так как у нас в курсе не изучался HTML и JavaScript, то мы будем по максимуму использовать библиотеки, которые облегчат нам разработку.\n",
    "\n",
    "Мы будем использовать библиотеку `P5`, которая позволяет очень легко добавлять и управлять элементами на странице, а также библиотекой `ml5`, которая позволяет нам запускать модели машинного обучения на JavaScript. Внутри себя `ml5` использует библиотеку `tensorflow.js`, поэтому любые модели, которые вы можете создать с помощью `tensorflow`, можно будет использовать и в `ml5`\n",
    "\n",
    "Напишем основную страницу для нашего приложения. Подключим в ней указанные библиотеки, а также скрипт `index.js` в котором мы далее напишем всю логику работы.\n",
    "\n",
    "Больше на этой странице ничего добавлять не будем - все будет происходить из `index.js`."
   ]
  },
  {
   "cell_type": "code",
   "execution_count": 3,
   "metadata": {},
   "outputs": [
    {
     "name": "stdout",
     "output_type": "stream",
     "text": [
      "Overwriting webserver/index.html\n"
     ]
    }
   ],
   "source": [
    "%%writefile webserver/index.html\n",
    "\n",
    "<!DOCTYPE html>\n",
    "<html>\n",
    "    <head>\n",
    "        <meta charset=\"UTF-8\">\n",
    "        <meta http-equiv=\"X-UA-Compatible\" content=\"IE=edge\">\n",
    "        <meta name=\"viewport\" content=\"width=device-width, initial-scale=1\">\n",
    "\n",
    "        <title>Client side ML application</title>\n",
    "\n",
    "        <!-- Библиотека для простого и быстрого упраления контентом на странице -->\n",
    "        <script src=\"https://cdn.jsdelivr.net/npm/p5@1.1.9/lib/p5.min.js\"></script>\n",
    "        \n",
    "        <!-- Библиотека для машинного обучения на JavaScript -->\n",
    "        <script src=\"https://unpkg.com/ml5@0.4.3/dist/ml5.min.js\"></script>\n",
    "        \n",
    "        <!-- Наш скрипт -->\n",
    "        <script src=\"index.js\"></script>\n",
    "\n",
    "    </head>\n",
    "<body>\n",
    "</body>\n",
    "</html>"
   ]
  },
  {
   "cell_type": "markdown",
   "metadata": {},
   "source": [
    "Библиотека P5 будет искать функцию `setup` и запустит ее, как только страница запустится. В ней мы напишем инициализацию нашего приложения. \n",
    "\n",
    "MobileNet обучен классифицировать картинки, поэтому для нашего приложения нам потребуется видеопоток с веб-камеры.\n",
    "Для этого используем функцию createCapture, которая получит доступ к веб-камере и выведет ее на страницу."
   ]
  },
  {
   "cell_type": "code",
   "execution_count": 4,
   "metadata": {},
   "outputs": [
    {
     "name": "stdout",
     "output_type": "stream",
     "text": [
      "Writing webserver/index.js\n"
     ]
    }
   ],
   "source": [
    "%%writefile webserver/index.js\n",
    "\n",
    "// Переменные, которые нам потребуются для работы\n",
    "let videostream;\n",
    "\n",
    "function setup() {\n",
    "    console.log('Setup JS application');\n",
    "\n",
    "    // Указываем библиотеке, что нам не потребуется канвас для нашего примера\n",
    "    noCanvas();\n",
    "\n",
    "    // Получаем видеопоток с камеры и выводим его на страницу\n",
    "    videostream = createCapture('video');\n",
    "}\n",
    "\n"
   ]
  },
  {
   "cell_type": "markdown",
   "metadata": {},
   "source": [
    "Из-за политики безопасности после открытия дополнительно нужно будет разрешить странице получать данные с веб-камеры.\n",
    "\n",
    "<a href=\"/webserver/\">Открыть в браузере</a>"
   ]
  },
  {
   "cell_type": "markdown",
   "metadata": {},
   "source": [
    "Попробуем теперь загрузить модель машинного обучения и для каждого кадра с веб-камеры делать предсказание."
   ]
  },
  {
   "cell_type": "code",
   "execution_count": 5,
   "metadata": {},
   "outputs": [
    {
     "name": "stdout",
     "output_type": "stream",
     "text": [
      "Overwriting webserver/index.js\n"
     ]
    }
   ],
   "source": [
    "%%writefile webserver/index.js\n",
    "\n",
    "// Переменные, которые нам потребуются для работы\n",
    "let videostream;\n",
    "let labelBox;\n",
    "let mlModel;\n",
    "let classifier;\n",
    "\n",
    "function setup() {\n",
    "    console.log('Setup JS application');\n",
    "\n",
    "    // Указываем библиотеке, что нам не потребуется канвас для нашего примера\n",
    "    noCanvas();\n",
    "\n",
    "    // Получаем видеопоток с камеры и выводим его на страницу\n",
    "    videostream = createCapture('video');\n",
    "\n",
    "    // Создаем элемент, в котором будем рисовать предсказание\n",
    "    labelBox = createElement('h2', 'Prediction');\n",
    "\n",
    "    // Загружаем уже предобученный MobileNet и соединяем его сразу с видеопотоком\n",
    "    // Указываем, что после загрузки нужно вызвать modelReady\n",
    "    mlModel = ml5.imageClassifier('MobileNet', videostream, modelReady);\n",
    "}\n",
    "\n",
    "function modelReady() {\n",
    "    console.log('Model is ready to make predictions');\n",
    "\n",
    "    // Запускаем предсказание на текущем кадре с веб-камеры. Когда кадр из видеопотока будет обработан,\n",
    "    // вызовется makePrediction с результатом\n",
    "    mlModel.predict(drawPrediction)\n",
    "}\n",
    "\n",
    "function drawPrediction(error, result) {\n",
    "  if (!error) {\n",
    "    // Отображаем предсказание\n",
    "    prediction = result[0]['label'];  // Предсказанная категория\n",
    "    probability = result[0]['confidence']; // Уверенность модели (вероятность)\n",
    "    labelBox.html(prediction + \" - \" + probability);\n",
    "\n",
    "    // Передаем следующий кадр в обработку модели, чтобы непрерывно обрабатывать кадры из потока\n",
    "    mlModel.predict(drawPrediction);\n",
    "  }\n",
    "}\n"
   ]
  },
  {
   "cell_type": "markdown",
   "metadata": {},
   "source": [
    "Вначале необходимо подождать, пока модель загрузится. После этого под окошком с видео будет его классификация.\n",
    "\n",
    "Можно видеть, что классификация идет достаточно быстро без особых зависаний. И все исключительно в браузере.\n",
    "\n",
    "<a href=\"/webserver/\">Открыть в браузере</a>"
   ]
  },
  {
   "cell_type": "markdown",
   "metadata": {},
   "source": [
    "# Обучение модели. Transfer learning"
   ]
  },
  {
   "cell_type": "markdown",
   "metadata": {},
   "source": [
    "Мы убедились, что модель вполне неплохо работает прямо из браузера.\n",
    "\n",
    "Однако можем ли мы обучать модель прямо на устройстве пользователя? С нуля это конечно достаточно долгий процесс.\n",
    "\n",
    "Чтобы значительно ускорить его, воспользуемся приемом Transfer Learning. \n",
    "\n",
    "Этот подход работает следующим образом - мы фиксируем все веса модели кроме последнего слоя, где модель делает предсказания. Слой с предсказаниями мы убираем вообще. Предположительно на последнем слое, который мы оставили, должны быть хорошие признаки для любой фотографии, так как они позволяли модели до этого успешно предсказывать 1000 классов. \n",
    "\n",
    "После этого добавим наши классы, которые мы хотим предсказывать, добавим несколько примеров для каждого из наших новых классов и запустим процесс обучения. Так как модель уже имеет хорошую предсказательную способность, одна должна обучиться достаточно быстро.\n",
    "\n",
    "<img src=\"img/transfer.jpeg\">\n",
    "\n",
    "https://neerc.ifmo.ru/wiki/index.php?title=%D0%A4%D0%B0%D0%B9%D0%BB:Transfer.jpeg#filelinks"
   ]
  },
  {
   "cell_type": "markdown",
   "metadata": {},
   "source": [
    "Для примера я буду пытаться научить модель отличать резиновую уточку от ручки. Вы можете учить ее чему-то своему.\n",
    "\n",
    "Чтобы этот процесс реализовать, добавим еще три кнопки\n",
    "* Добавить картинку уточки\n",
    "* Добавить картинку ручки\n",
    "* Начать обучение"
   ]
  },
  {
   "cell_type": "code",
   "execution_count": 6,
   "metadata": {},
   "outputs": [
    {
     "name": "stdout",
     "output_type": "stream",
     "text": [
      "Overwriting webserver/index.js\n"
     ]
    }
   ],
   "source": [
    "%%writefile webserver/index.js\n",
    "\n",
    "// Переменные, которые нам потребуются для работы\n",
    "let videostream;\n",
    "let labelBox;\n",
    "let mlModel;\n",
    "let newClassifier;\n",
    "\n",
    "let duckButton;\n",
    "let penButton;\n",
    "let trainBurron;\n",
    "\n",
    "function setup() {\n",
    "    console.log('Setup JS application');\n",
    "\n",
    "    // Указываем библиотеке, что нам не потребуется канвас для нашего примера\n",
    "    noCanvas();\n",
    "\n",
    "    // Получаем видеопоток с камеры и выводим его на страницу\n",
    "    videostream = createCapture('video');\n",
    "    videostream.play();\n",
    "\n",
    "    // Создаем элемент, в котором будем рисовать предсказание\n",
    "    labelBox = createElement('h2', 'Prediction');\n",
    "\n",
    "    // Загружаем уже предобученный MobileNet и отрезаем от него последний слой\n",
    "    // После загрузки вызовется modelReady\n",
    "    mlModel = ml5.featureExtractor('MobileNet', modelReady);\n",
    "\n",
    "    // Создаем на базе предыдущей модели новую для классификации\n",
    "    // Сразу соединяем ее с видеопотоком\n",
    "    newClassifier  = mlModel.classification(videostream);\n",
    "\n",
    "    // Кнопка для добавления примера уточки\n",
    "    duckButton = createButton('Duck');\n",
    "    duckButton.mousePressed(function() {\n",
    "      console.log(\"Added Duck\");\n",
    "      newClassifier.addImage('Duck');\n",
    "    });\n",
    "\n",
    "    // Кнопка для добавления примера ручка\n",
    "    whistleButton = createButton('Pen');\n",
    "    whistleButton.mousePressed(function() {\n",
    "      console.log(\"Added Pen\");\n",
    "      newClassifier.addImage('Pen');\n",
    "    });\n",
    "\n",
    "    // Кнопка для начала обучения\n",
    "    trainButton = createButton('Train');\n",
    "    trainButton.mousePressed(function() {\n",
    "      console.log(\"Begin training\");\n",
    "      // В процессе обучения будет вызываться функция controlTraining, в которую будет передаваться ошибка \n",
    "      newClassifier.train(controlTraining);\n",
    "    });\n",
    "}\n",
    "\n",
    "function controlTraining(loss) {\n",
    "  if (loss) {  // Еще идет процесс обучения\n",
    "    console.log(loss);\n",
    "  } else { // Процесс обучения завершился. Можем начинать предсказания\n",
    "    newClassifier.classify(drawPrediction);\n",
    "  }\n",
    "}\n",
    "\n",
    "function modelReady() {\n",
    "    console.log('Model is ready to make predictions');\n",
    "}\n",
    "\n",
    "function drawPrediction(error, result) {\n",
    "  if (!error) {\n",
    "    // Отображаем предсказание\n",
    "    prediction = result[0]['label'];\n",
    "    probability = result[0]['confidence'];\n",
    "    labelBox.html(prediction + \" - \" + probability);\n",
    "\n",
    "    // Передаем следующий кадр в обработку модели\n",
    "    newClassifier.classify(drawPrediction);\n",
    "  }\n",
    "}"
   ]
  },
  {
   "cell_type": "markdown",
   "metadata": {},
   "source": [
    "После запуска можно открыть консоль разработчика (F12) чтобы следить за тем, как будут добавляться картинки и как будет изменяться ошибка модели.\n",
    "\n",
    "Вначале покажем в камеру уточку и с помощью кнопки добавим несколько примеров.\n",
    "\n",
    "После этого проделаем тоже самое с ручкой.\n",
    "\n",
    "Запустим обучение и в течение 10-15 секунд модель должна обучиться. Ошибку можно видеть в консоли.\n",
    "\n",
    "После этого модель должна начать успешно отличать уточку от ручки.\n",
    "\n",
    "<a href=\"/webserver/\">Открыть в браузере</a>"
   ]
  },
  {
   "cell_type": "markdown",
   "metadata": {},
   "source": [
    "# Запуск на телефоне"
   ]
  },
  {
   "cell_type": "markdown",
   "metadata": {},
   "source": [
    "Этот же пример можно попробовать запустить прямо на телефоне. Чтобы это сделать необходимо выложить `index.html` и `index.js` например на github pages. После чего просто открыть в браузере с телефона.\n",
    "\n",
    "Для того, чтобы использовать заднюю камеру на телефоне, а не фронтальную, отдельно добавим этот параметр в `createCapture`."
   ]
  },
  {
   "cell_type": "code",
   "execution_count": 7,
   "metadata": {},
   "outputs": [
    {
     "name": "stdout",
     "output_type": "stream",
     "text": [
      "Overwriting webserver/index.js\n"
     ]
    }
   ],
   "source": [
    "%%writefile webserver/index.js\n",
    "\n",
    "// Переменные, которые нам потребуются для работы\n",
    "let videostream;\n",
    "let labelBox;\n",
    "let mlModel;\n",
    "let newClassifier;\n",
    "\n",
    "let duckButton;\n",
    "let penButton;\n",
    "let trainBurron;\n",
    "\n",
    "function setup() {\n",
    "    console.log('Setup JS application');\n",
    "\n",
    "    // Указываем библиотеке, что нам не потребуется канвас для нашего примера\n",
    "    noCanvas();\n",
    "\n",
    "    // Получаем видеопоток с основной камеры телефона камеры и выводим его на страницу\n",
    "    videostream = createCapture({\n",
    "      audio: false,\n",
    "      video: {\n",
    "        facingMode: {\n",
    "          exact: \"environment\"\n",
    "        }\n",
    "      }\n",
    "    });\n",
    "    // videostream = createCapture('video');\n",
    "\n",
    "    // Создаем элемент, в котором будем рисовать предсказание\n",
    "    labelBox = createElement('h2', 'Prediction');\n",
    "\n",
    "    // Загружаем уже предобученный MobileNet и отрезаем от него последний слой\n",
    "    // После загрузки вызовется modelReady\n",
    "    mlModel = ml5.featureExtractor('MobileNet', modelReady);\n",
    "\n",
    "    // Создаем на базе предыдущей модели новую для классификации\n",
    "    // Сразу соединяем ее с видеопотоком\n",
    "    newClassifier  = mlModel.classification(videostream);\n",
    "\n",
    "    // Кнопка для добавления примера уточки\n",
    "    duckButton = createButton('Duck');\n",
    "    duckButton.mousePressed(function() {\n",
    "      console.log(\"Added Duck\");\n",
    "      newClassifier.addImage('Duck');\n",
    "    });\n",
    "\n",
    "    // Кнопка для добавления примера ручка\n",
    "    whistleButton = createButton('Pen');\n",
    "    whistleButton.mousePressed(function() {\n",
    "      console.log(\"Added Pen\");\n",
    "      newClassifier.addImage('Pen');\n",
    "    });\n",
    "\n",
    "    // Кнопка для начала обучения\n",
    "    trainButton = createButton('Train');\n",
    "    trainButton.mousePressed(function() {\n",
    "      console.log(\"Begin training\");\n",
    "      newClassifier.train(controlTraining);\n",
    "    });\n",
    "}\n",
    "\n",
    "function controlTraining(loss) {\n",
    "  if (loss) {  // Еще идет процесс обучения\n",
    "    console.log(loss);\n",
    "  } else { // Процесс обучения завершился. Можем начинать предсказания\n",
    "    newClassifier.classify(drawPrediction);\n",
    "  }\n",
    "}\n",
    "\n",
    "function modelReady() {\n",
    "    console.log('Model is ready to make predictions');\n",
    "}\n",
    "\n",
    "function drawPrediction(error, result) {\n",
    "  if (!error) {\n",
    "    // Отображаем предсказание\n",
    "    prediction = result[0]['label'];\n",
    "    probability = result[0]['confidence'];\n",
    "    labelBox.html(prediction + \" - \" + probability);\n",
    "\n",
    "    // Передаем следующий кадр в обработку модели\n",
    "    newClassifier.classify(drawPrediction);\n",
    "  }\n",
    "}\n"
   ]
  },
  {
   "cell_type": "markdown",
   "metadata": {},
   "source": [
    "<a href=\"/webserver/\">Открыть в браузере</a>"
   ]
  }
 ],
 "metadata": {
  "kernelspec": {
   "display_name": "Python 3",
   "language": "python",
   "name": "python3"
  },
  "language_info": {
   "codemirror_mode": {
    "name": "ipython",
    "version": 3
   },
   "file_extension": ".py",
   "mimetype": "text/x-python",
   "name": "python",
   "nbconvert_exporter": "python",
   "pygments_lexer": "ipython3",
   "version": "3.6.5"
  }
 },
 "nbformat": 4,
 "nbformat_minor": 1
}
